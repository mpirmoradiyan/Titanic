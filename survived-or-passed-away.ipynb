{
 "cells": [
  {
   "cell_type": "code",
   "execution_count": 1,
   "metadata": {
    "execution": {
     "iopub.execute_input": "2020-11-21T14:00:36.269642Z",
     "iopub.status.busy": "2020-11-21T14:00:36.268833Z",
     "iopub.status.idle": "2020-11-21T14:00:37.775027Z",
     "shell.execute_reply": "2020-11-21T14:00:37.773589Z"
    },
    "papermill": {
     "duration": 1.590682,
     "end_time": "2020-11-21T14:00:37.775188",
     "exception": false,
     "start_time": "2020-11-21T14:00:36.184506",
     "status": "completed"
    },
    "tags": []
   },
   "outputs": [
    {
     "name": "stdout",
     "output_type": "stream",
     "text": [
      "/kaggle/input/titanic/train.csv\n",
      "/kaggle/input/titanic/gender_submission.csv\n",
      "/kaggle/input/titanic/test.csv\n"
     ]
    }
   ],
   "source": [
    "#Importing the packages implemented in this notebook.\n",
    "import numpy as np\n",
    "import pandas as pd\n",
    "import matplotlib.pyplot as plt\n",
    "import seaborn as sns\n",
    "\n",
    "from sklearn.preprocessing import FunctionTransformer, StandardScaler\n",
    "from sklearn.model_selection import train_test_split, GridSearchCV\n",
    "from sklearn.pipeline import Pipeline\n",
    "from sklearn.metrics import classification_report\n",
    "\n",
    "from sklearn.naive_bayes import GaussianNB\n",
    "from sklearn.linear_model import LogisticRegression\n",
    "from sklearn.neighbors import KNeighborsClassifier\n",
    "from sklearn.svm import SVC\n",
    "from sklearn.ensemble import GradientBoostingClassifier,RandomForestClassifier,AdaBoostClassifier,VotingClassifier\n",
    "from sklearn.tree import DecisionTreeClassifier\n",
    "from sklearn.gaussian_process import GaussianProcessClassifier\n",
    "from sklearn.gaussian_process.kernels import RBF, Matern\n",
    "\n",
    "import warnings\n",
    "warnings.filterwarnings('ignore')\n",
    "\n",
    "\n",
    "# Input data files are available in the \"../input/\" directory.\n",
    "# For example, running this (by clicking run or pressing Shift+Enter) will list all files under the input directory\n",
    "\n",
    "import os\n",
    "for dirname, _, filenames in os.walk('/kaggle/input'):\n",
    "    for filename in filenames:\n",
    "        print(os.path.join(dirname, filename))"
   ]
  },
  {
   "cell_type": "markdown",
   "metadata": {
    "papermill": {
     "duration": 0.057449,
     "end_time": "2020-11-21T14:00:37.891583",
     "exception": false,
     "start_time": "2020-11-21T14:00:37.834134",
     "status": "completed"
    },
    "tags": []
   },
   "source": [
    "# 1)Data Import"
   ]
  },
  {
   "cell_type": "code",
   "execution_count": 2,
   "metadata": {
    "execution": {
     "iopub.execute_input": "2020-11-21T14:00:38.021021Z",
     "iopub.status.busy": "2020-11-21T14:00:38.019884Z",
     "iopub.status.idle": "2020-11-21T14:00:38.039195Z",
     "shell.execute_reply": "2020-11-21T14:00:38.038327Z"
    },
    "papermill": {
     "duration": 0.08969,
     "end_time": "2020-11-21T14:00:38.039332",
     "exception": false,
     "start_time": "2020-11-21T14:00:37.949642",
     "status": "completed"
    },
    "tags": []
   },
   "outputs": [],
   "source": [
    "train = pd.read_csv(\"/kaggle/input/titanic/train.csv\")\n",
    "test = pd.read_csv(\"/kaggle/input/titanic/test.csv\")"
   ]
  },
  {
   "cell_type": "code",
   "execution_count": 3,
   "metadata": {
    "execution": {
     "iopub.execute_input": "2020-11-21T14:00:38.182786Z",
     "iopub.status.busy": "2020-11-21T14:00:38.175585Z",
     "iopub.status.idle": "2020-11-21T14:00:38.197178Z",
     "shell.execute_reply": "2020-11-21T14:00:38.196356Z"
    },
    "papermill": {
     "duration": 0.098021,
     "end_time": "2020-11-21T14:00:38.197304",
     "exception": false,
     "start_time": "2020-11-21T14:00:38.099283",
     "status": "completed"
    },
    "tags": []
   },
   "outputs": [
    {
     "data": {
      "text/html": [
       "<div>\n",
       "<style scoped>\n",
       "    .dataframe tbody tr th:only-of-type {\n",
       "        vertical-align: middle;\n",
       "    }\n",
       "\n",
       "    .dataframe tbody tr th {\n",
       "        vertical-align: top;\n",
       "    }\n",
       "\n",
       "    .dataframe thead th {\n",
       "        text-align: right;\n",
       "    }\n",
       "</style>\n",
       "<table border=\"1\" class=\"dataframe\">\n",
       "  <thead>\n",
       "    <tr style=\"text-align: right;\">\n",
       "      <th></th>\n",
       "      <th>PassengerId</th>\n",
       "      <th>Survived</th>\n",
       "      <th>Pclass</th>\n",
       "      <th>Name</th>\n",
       "      <th>Sex</th>\n",
       "      <th>Age</th>\n",
       "      <th>SibSp</th>\n",
       "      <th>Parch</th>\n",
       "      <th>Ticket</th>\n",
       "      <th>Fare</th>\n",
       "      <th>Cabin</th>\n",
       "      <th>Embarked</th>\n",
       "    </tr>\n",
       "  </thead>\n",
       "  <tbody>\n",
       "    <tr>\n",
       "      <th>0</th>\n",
       "      <td>1</td>\n",
       "      <td>0</td>\n",
       "      <td>3</td>\n",
       "      <td>Braund, Mr. Owen Harris</td>\n",
       "      <td>male</td>\n",
       "      <td>22.0</td>\n",
       "      <td>1</td>\n",
       "      <td>0</td>\n",
       "      <td>A/5 21171</td>\n",
       "      <td>7.2500</td>\n",
       "      <td>NaN</td>\n",
       "      <td>S</td>\n",
       "    </tr>\n",
       "    <tr>\n",
       "      <th>1</th>\n",
       "      <td>2</td>\n",
       "      <td>1</td>\n",
       "      <td>1</td>\n",
       "      <td>Cumings, Mrs. John Bradley (Florence Briggs Th...</td>\n",
       "      <td>female</td>\n",
       "      <td>38.0</td>\n",
       "      <td>1</td>\n",
       "      <td>0</td>\n",
       "      <td>PC 17599</td>\n",
       "      <td>71.2833</td>\n",
       "      <td>C85</td>\n",
       "      <td>C</td>\n",
       "    </tr>\n",
       "    <tr>\n",
       "      <th>2</th>\n",
       "      <td>3</td>\n",
       "      <td>1</td>\n",
       "      <td>3</td>\n",
       "      <td>Heikkinen, Miss. Laina</td>\n",
       "      <td>female</td>\n",
       "      <td>26.0</td>\n",
       "      <td>0</td>\n",
       "      <td>0</td>\n",
       "      <td>STON/O2. 3101282</td>\n",
       "      <td>7.9250</td>\n",
       "      <td>NaN</td>\n",
       "      <td>S</td>\n",
       "    </tr>\n",
       "    <tr>\n",
       "      <th>3</th>\n",
       "      <td>4</td>\n",
       "      <td>1</td>\n",
       "      <td>1</td>\n",
       "      <td>Futrelle, Mrs. Jacques Heath (Lily May Peel)</td>\n",
       "      <td>female</td>\n",
       "      <td>35.0</td>\n",
       "      <td>1</td>\n",
       "      <td>0</td>\n",
       "      <td>113803</td>\n",
       "      <td>53.1000</td>\n",
       "      <td>C123</td>\n",
       "      <td>S</td>\n",
       "    </tr>\n",
       "    <tr>\n",
       "      <th>4</th>\n",
       "      <td>5</td>\n",
       "      <td>0</td>\n",
       "      <td>3</td>\n",
       "      <td>Allen, Mr. William Henry</td>\n",
       "      <td>male</td>\n",
       "      <td>35.0</td>\n",
       "      <td>0</td>\n",
       "      <td>0</td>\n",
       "      <td>373450</td>\n",
       "      <td>8.0500</td>\n",
       "      <td>NaN</td>\n",
       "      <td>S</td>\n",
       "    </tr>\n",
       "  </tbody>\n",
       "</table>\n",
       "</div>"
      ],
      "text/plain": [
       "   PassengerId  Survived  Pclass  \\\n",
       "0            1         0       3   \n",
       "1            2         1       1   \n",
       "2            3         1       3   \n",
       "3            4         1       1   \n",
       "4            5         0       3   \n",
       "\n",
       "                                                Name     Sex   Age  SibSp  \\\n",
       "0                            Braund, Mr. Owen Harris    male  22.0      1   \n",
       "1  Cumings, Mrs. John Bradley (Florence Briggs Th...  female  38.0      1   \n",
       "2                             Heikkinen, Miss. Laina  female  26.0      0   \n",
       "3       Futrelle, Mrs. Jacques Heath (Lily May Peel)  female  35.0      1   \n",
       "4                           Allen, Mr. William Henry    male  35.0      0   \n",
       "\n",
       "   Parch            Ticket     Fare Cabin Embarked  \n",
       "0      0         A/5 21171   7.2500   NaN        S  \n",
       "1      0          PC 17599  71.2833   C85        C  \n",
       "2      0  STON/O2. 3101282   7.9250   NaN        S  \n",
       "3      0            113803  53.1000  C123        S  \n",
       "4      0            373450   8.0500   NaN        S  "
      ]
     },
     "execution_count": 3,
     "metadata": {},
     "output_type": "execute_result"
    }
   ],
   "source": [
    "train.head()"
   ]
  },
  {
   "cell_type": "code",
   "execution_count": 4,
   "metadata": {
    "execution": {
     "iopub.execute_input": "2020-11-21T14:00:38.326050Z",
     "iopub.status.busy": "2020-11-21T14:00:38.325077Z",
     "iopub.status.idle": "2020-11-21T14:00:38.328428Z",
     "shell.execute_reply": "2020-11-21T14:00:38.327703Z"
    },
    "papermill": {
     "duration": 0.071814,
     "end_time": "2020-11-21T14:00:38.328554",
     "exception": false,
     "start_time": "2020-11-21T14:00:38.256740",
     "status": "completed"
    },
    "tags": []
   },
   "outputs": [],
   "source": [
    "def dataInfo(dataset):\n",
    "    '''A function to summarize a dataset properties.'''\n",
    "    \n",
    "    print(f'shape: {dataset.shape}')\n",
    "    print('*****************************')\n",
    "    print(f'data types:\\n')\n",
    "    print(f\"{dataset.dtypes}\")\n",
    "    print('*****************************')\n",
    "    print(f'Total missed values: {dataset.isnull().sum().sum()}')    \n",
    "    print('*****************************')\n",
    "    print(f'Missed values in each column:\\n')\n",
    "    print(f\"{dataset.isnull().sum()}\")"
   ]
  },
  {
   "cell_type": "markdown",
   "metadata": {
    "papermill": {
     "duration": 0.057651,
     "end_time": "2020-11-21T14:00:38.444711",
     "exception": false,
     "start_time": "2020-11-21T14:00:38.387060",
     "status": "completed"
    },
    "tags": []
   },
   "source": [
    "## 1-1)Train set"
   ]
  },
  {
   "cell_type": "code",
   "execution_count": 5,
   "metadata": {
    "execution": {
     "iopub.execute_input": "2020-11-21T14:00:38.573363Z",
     "iopub.status.busy": "2020-11-21T14:00:38.571719Z",
     "iopub.status.idle": "2020-11-21T14:00:38.584960Z",
     "shell.execute_reply": "2020-11-21T14:00:38.584088Z"
    },
    "papermill": {
     "duration": 0.081517,
     "end_time": "2020-11-21T14:00:38.585105",
     "exception": false,
     "start_time": "2020-11-21T14:00:38.503588",
     "status": "completed"
    },
    "tags": []
   },
   "outputs": [
    {
     "name": "stdout",
     "output_type": "stream",
     "text": [
      "shape: (891, 12)\n",
      "*****************************\n",
      "data types:\n",
      "\n",
      "PassengerId      int64\n",
      "Survived         int64\n",
      "Pclass           int64\n",
      "Name            object\n",
      "Sex             object\n",
      "Age            float64\n",
      "SibSp            int64\n",
      "Parch            int64\n",
      "Ticket          object\n",
      "Fare           float64\n",
      "Cabin           object\n",
      "Embarked        object\n",
      "dtype: object\n",
      "*****************************\n",
      "Total missed values: 866\n",
      "*****************************\n",
      "Missed values in each column:\n",
      "\n",
      "PassengerId      0\n",
      "Survived         0\n",
      "Pclass           0\n",
      "Name             0\n",
      "Sex              0\n",
      "Age            177\n",
      "SibSp            0\n",
      "Parch            0\n",
      "Ticket           0\n",
      "Fare             0\n",
      "Cabin          687\n",
      "Embarked         2\n",
      "dtype: int64\n"
     ]
    }
   ],
   "source": [
    "dataInfo(train)"
   ]
  },
  {
   "cell_type": "markdown",
   "metadata": {
    "papermill": {
     "duration": 0.08268,
     "end_time": "2020-11-21T14:00:38.746099",
     "exception": false,
     "start_time": "2020-11-21T14:00:38.663419",
     "status": "completed"
    },
    "tags": []
   },
   "source": [
    "# 2) Data Exploratory Analysis"
   ]
  },
  {
   "cell_type": "markdown",
   "metadata": {
    "papermill": {
     "duration": 0.060273,
     "end_time": "2020-11-21T14:00:38.885513",
     "exception": false,
     "start_time": "2020-11-21T14:00:38.825240",
     "status": "completed"
    },
    "tags": []
   },
   "source": [
    "## 2-1)Missing Values"
   ]
  },
  {
   "cell_type": "code",
   "execution_count": 6,
   "metadata": {
    "execution": {
     "iopub.execute_input": "2020-11-21T14:00:39.015634Z",
     "iopub.status.busy": "2020-11-21T14:00:39.014319Z",
     "iopub.status.idle": "2020-11-21T14:00:39.017884Z",
     "shell.execute_reply": "2020-11-21T14:00:39.017004Z"
    },
    "papermill": {
     "duration": 0.073009,
     "end_time": "2020-11-21T14:00:39.018021",
     "exception": false,
     "start_time": "2020-11-21T14:00:38.945012",
     "status": "completed"
    },
    "tags": []
   },
   "outputs": [],
   "source": [
    "def nullFraction(col,df=\"train\"):\n",
    "    '''This function prints the null fraction of a column.'''\n",
    "    print(\"Null vlaue fraction of the {} feature in the {} set: {:.2f}\".format(col,df, np.mean(train[col].isna())))\n",
    "    "
   ]
  },
  {
   "cell_type": "markdown",
   "metadata": {
    "papermill": {
     "duration": 0.060782,
     "end_time": "2020-11-21T14:00:39.142097",
     "exception": false,
     "start_time": "2020-11-21T14:00:39.081315",
     "status": "completed"
    },
    "tags": []
   },
   "source": [
    "The first issue that the dataInfo output attracts our attention is the null values includig in the \"Cabin\" feature. Almost 80 percent of the data of this feature is not known."
   ]
  },
  {
   "cell_type": "code",
   "execution_count": 7,
   "metadata": {
    "execution": {
     "iopub.execute_input": "2020-11-21T14:00:39.273167Z",
     "iopub.status.busy": "2020-11-21T14:00:39.272099Z",
     "iopub.status.idle": "2020-11-21T14:00:39.277012Z",
     "shell.execute_reply": "2020-11-21T14:00:39.276063Z"
    },
    "papermill": {
     "duration": 0.073671,
     "end_time": "2020-11-21T14:00:39.277166",
     "exception": false,
     "start_time": "2020-11-21T14:00:39.203495",
     "status": "completed"
    },
    "tags": []
   },
   "outputs": [
    {
     "name": "stdout",
     "output_type": "stream",
     "text": [
      "Null vlaue fraction of the Cabin feature in the train set: 0.77\n",
      "Null vlaue fraction of the Cabin feature in the test set: 0.77\n"
     ]
    }
   ],
   "source": [
    "nullFraction(\"Cabin\")\n",
    "nullFraction(\"Cabin\", \"test\")"
   ]
  },
  {
   "cell_type": "markdown",
   "metadata": {
    "papermill": {
     "duration": 0.061311,
     "end_time": "2020-11-21T14:00:39.399574",
     "exception": false,
     "start_time": "2020-11-21T14:00:39.338263",
     "status": "completed"
    },
    "tags": []
   },
   "source": [
    "This statistic for the \"Age\" is about 20 percent."
   ]
  },
  {
   "cell_type": "code",
   "execution_count": 8,
   "metadata": {
    "execution": {
     "iopub.execute_input": "2020-11-21T14:00:39.528647Z",
     "iopub.status.busy": "2020-11-21T14:00:39.527396Z",
     "iopub.status.idle": "2020-11-21T14:00:39.531169Z",
     "shell.execute_reply": "2020-11-21T14:00:39.531812Z"
    },
    "papermill": {
     "duration": 0.070981,
     "end_time": "2020-11-21T14:00:39.531984",
     "exception": false,
     "start_time": "2020-11-21T14:00:39.461003",
     "status": "completed"
    },
    "tags": []
   },
   "outputs": [
    {
     "name": "stdout",
     "output_type": "stream",
     "text": [
      "Null vlaue fraction of the Age feature in the train set: 0.20\n",
      "Null vlaue fraction of the Age feature in the test set: 0.20\n"
     ]
    }
   ],
   "source": [
    "nullFraction(\"Age\")\n",
    "nullFraction(\"Age\", \"test\")"
   ]
  },
  {
   "cell_type": "markdown",
   "metadata": {
    "papermill": {
     "duration": 0.061117,
     "end_time": "2020-11-21T14:00:39.653339",
     "exception": false,
     "start_time": "2020-11-21T14:00:39.592222",
     "status": "completed"
    },
    "tags": []
   },
   "source": [
    "Visually we may see these statistics better:"
   ]
  },
  {
   "cell_type": "code",
   "execution_count": 9,
   "metadata": {
    "execution": {
     "iopub.execute_input": "2020-11-21T14:00:39.781341Z",
     "iopub.status.busy": "2020-11-21T14:00:39.780561Z",
     "iopub.status.idle": "2020-11-21T14:00:40.005741Z",
     "shell.execute_reply": "2020-11-21T14:00:40.004759Z"
    },
    "papermill": {
     "duration": 0.292159,
     "end_time": "2020-11-21T14:00:40.005899",
     "exception": false,
     "start_time": "2020-11-21T14:00:39.713740",
     "status": "completed"
    },
    "tags": []
   },
   "outputs": [
    {
     "data": {
      "image/png": "[encoded data removed]",
      "text/plain": [
       "<Figure size 432x504 with 1 Axes>"
      ]
     },
     "metadata": {
      "needs_background": "light"
     },
     "output_type": "display_data"
    }
   ],
   "source": [
    "fig,ax0 = plt.subplots(figsize=(6,7))\n",
    "sns.heatmap(train.isnull(), yticklabels=False,cmap=\"YlOrBr\", cbar=False, ax=ax0);\n",
    "ax0.set_title(\"Train Set\")\n",
    "plt.show()"
   ]
  },
  {
   "cell_type": "markdown",
   "metadata": {
    "papermill": {
     "duration": 0.062283,
     "end_time": "2020-11-21T14:00:40.134281",
     "exception": false,
     "start_time": "2020-11-21T14:00:40.071998",
     "status": "completed"
    },
    "tags": []
   },
   "source": [
    "As it is mentioned earlier about 20 percent of the \"Age\" is missing. This amount of missing might be reasonable to iplement an imputution method to replace the missing data, however, such an approach could not be helpful for the \"Cabin\" as it contains about 80 percent missing data. "
   ]
  },
  {
   "cell_type": "markdown",
   "metadata": {
    "papermill": {
     "duration": 0.062067,
     "end_time": "2020-11-21T14:00:40.259080",
     "exception": false,
     "start_time": "2020-11-21T14:00:40.197013",
     "status": "completed"
    },
    "tags": []
   },
   "source": [
    "## 2-2)Class Distribution"
   ]
  },
  {
   "cell_type": "markdown",
   "metadata": {
    "papermill": {
     "duration": 0.061173,
     "end_time": "2020-11-21T14:00:40.382065",
     "exception": false,
     "start_time": "2020-11-21T14:00:40.320892",
     "status": "completed"
    },
    "tags": []
   },
   "source": [
    "Now let's explore the distribution of the class labels to see how the featurse can explain the target categories.\n"
   ]
  },
  {
   "cell_type": "code",
   "execution_count": 10,
   "metadata": {
    "execution": {
     "iopub.execute_input": "2020-11-21T14:00:40.527147Z",
     "iopub.status.busy": "2020-11-21T14:00:40.526010Z",
     "iopub.status.idle": "2020-11-21T14:00:40.676425Z",
     "shell.execute_reply": "2020-11-21T14:00:40.677090Z"
    },
    "papermill": {
     "duration": 0.234065,
     "end_time": "2020-11-21T14:00:40.677252",
     "exception": false,
     "start_time": "2020-11-21T14:00:40.443187",
     "status": "completed"
    },
    "tags": []
   },
   "outputs": [
    {
     "data": {
      "image/png": "[encoded data removed]",
      "text/plain": [
       "<Figure size 432x288 with 1 Axes>"
      ]
     },
     "metadata": {
      "needs_background": "light"
     },
     "output_type": "display_data"
    }
   ],
   "source": [
    "fig, ax1 = plt.subplots( )\n",
    "train['Survived'].value_counts().sort_index().plot(kind='bar', ax=ax1)\n",
    "ax1.set_xlabel(\"Count\")\n",
    "ax1.set_ylabel(\"Survived\", labelpad=14)\n",
    "ax1.set_title(\" Training set\", y=1.02);"
   ]
  },
  {
   "cell_type": "markdown",
   "metadata": {
    "papermill": {
     "duration": 0.063053,
     "end_time": "2020-11-21T14:00:40.803942",
     "exception": false,
     "start_time": "2020-11-21T14:00:40.740889",
     "status": "completed"
    },
    "tags": []
   },
   "source": [
    "The following are the visualization of the distribution of the \"Survived\" based on the different features:"
   ]
  },
  {
   "cell_type": "code",
   "execution_count": 11,
   "metadata": {
    "execution": {
     "iopub.execute_input": "2020-11-21T14:00:41.038358Z",
     "iopub.status.busy": "2020-11-21T14:00:40.942175Z",
     "iopub.status.idle": "2020-11-21T14:00:41.929857Z",
     "shell.execute_reply": "2020-11-21T14:00:41.929069Z"
    },
    "papermill": {
     "duration": 1.062516,
     "end_time": "2020-11-21T14:00:41.929984",
     "exception": false,
     "start_time": "2020-11-21T14:00:40.867468",
     "status": "completed"
    },
    "tags": []
   },
   "outputs": [
    {
     "data": {
      "image/png": "[encoded data removed]",
      "text/plain": [
       "<Figure size 864x576 with 4 Axes>"
      ]
     },
     "metadata": {
      "needs_background": "light"
     },
     "output_type": "display_data"
    },
    {
     "data": {
      "image/png": "[encoded data removed]",
      "text/plain": [
       "<Figure size 432x288 with 1 Axes>"
      ]
     },
     "metadata": {
      "needs_background": "light"
     },
     "output_type": "display_data"
    }
   ],
   "source": [
    "fig, ax = plt.subplots(2,2, figsize=(12,8))\n",
    "sns.countplot(x=\"Survived\", hue=\"Sex\", data=train, ax=ax[0,0])\n",
    "sns.countplot(x=\"Survived\", hue=\"Pclass\", data=train, ax=ax[0,1])\n",
    "\n",
    "sns.countplot(x=\"Survived\", hue=\"SibSp\", data=train, ax=ax[1,0])\n",
    "sns.countplot(x=\"Survived\", hue=\"Embarked\", data=train, ax=ax[1,1])\n",
    "plt.show()\n",
    "\n",
    "sns.countplot(x=\"Survived\", hue=\"Parch\", data=train);"
   ]
  },
  {
   "cell_type": "code",
   "execution_count": 12,
   "metadata": {
    "execution": {
     "iopub.execute_input": "2020-11-21T14:00:42.077690Z",
     "iopub.status.busy": "2020-11-21T14:00:42.076767Z",
     "iopub.status.idle": "2020-11-21T14:00:42.779936Z",
     "shell.execute_reply": "2020-11-21T14:00:42.780535Z"
    },
    "papermill": {
     "duration": 0.782631,
     "end_time": "2020-11-21T14:00:42.780729",
     "exception": false,
     "start_time": "2020-11-21T14:00:41.998098",
     "status": "completed"
    },
    "tags": []
   },
   "outputs": [
    {
     "data": {
      "image/png": "[encoded data removed]",
      "text/plain": [
       "<Figure size 864x576 with 4 Axes>"
      ]
     },
     "metadata": {
      "needs_background": "light"
     },
     "output_type": "display_data"
    }
   ],
   "source": [
    "fig, ax = plt.subplots(2,2, figsize=(12,8))\n",
    "ax[0,0].hist(train.Age, bins=20);\n",
    "ax[0,1].hist(train.Fare, bins=40);\n",
    "sns.stripplot(x=\"Survived\", y=\"Age\", data=train, ax=ax[1,0]);\n",
    "sns.stripplot(x=\"Survived\", y=\"Fare\", data=train, ax=ax[1,1]);\n"
   ]
  },
  {
   "cell_type": "markdown",
   "metadata": {
    "papermill": {
     "duration": 0.068261,
     "end_time": "2020-11-21T14:00:42.917024",
     "exception": false,
     "start_time": "2020-11-21T14:00:42.848763",
     "status": "completed"
    },
    "tags": []
   },
   "source": [
    "None of the features alone can explain the target perfect. As the figures illustrate each of those features can distinguish between two categories to some extent. \n",
    "\n",
    "we need to drop the \"Cabin\" as the most of its values are missing.\n",
    "\n",
    "\"Name\" and \"Ticket\" may not be helpful to classify the target as their values are unique.\n",
    "\n",
    "Therefore the features which may be selected to move forward with includes:\n",
    "\n",
    "**'Pclass', 'Sex', 'Age', 'SibSp','Parch', 'Fare', 'Embarked'**"
   ]
  },
  {
   "cell_type": "code",
   "execution_count": 13,
   "metadata": {
    "execution": {
     "iopub.execute_input": "2020-11-21T14:00:43.065998Z",
     "iopub.status.busy": "2020-11-21T14:00:43.064837Z",
     "iopub.status.idle": "2020-11-21T14:00:43.070958Z",
     "shell.execute_reply": "2020-11-21T14:00:43.070278Z"
    },
    "papermill": {
     "duration": 0.084565,
     "end_time": "2020-11-21T14:00:43.071102",
     "exception": false,
     "start_time": "2020-11-21T14:00:42.986537",
     "status": "completed"
    },
    "tags": []
   },
   "outputs": [
    {
     "name": "stdout",
     "output_type": "stream",
     "text": [
      "Unique values of the Ticket:681\n",
      "Unique values of the Name:891\n"
     ]
    }
   ],
   "source": [
    "print(\"Unique values of the Ticket:{}\".format(len(train.Ticket.unique())))\n",
    "print(\"Unique values of the Name:{}\".format(len(train.Name.unique())))\n"
   ]
  },
  {
   "cell_type": "markdown",
   "metadata": {
    "papermill": {
     "duration": 0.068341,
     "end_time": "2020-11-21T14:00:43.209677",
     "exception": false,
     "start_time": "2020-11-21T14:00:43.141336",
     "status": "completed"
    },
    "tags": []
   },
   "source": [
    "# 3) Data Preparation"
   ]
  },
  {
   "cell_type": "markdown",
   "metadata": {
    "papermill": {
     "duration": 0.070177,
     "end_time": "2020-11-21T14:00:43.347371",
     "exception": false,
     "start_time": "2020-11-21T14:00:43.277194",
     "status": "completed"
    },
    "tags": []
   },
   "source": [
    "## 3-1) Fill in the Missing data"
   ]
  },
  {
   "cell_type": "markdown",
   "metadata": {
    "papermill": {
     "duration": 0.067439,
     "end_time": "2020-11-21T14:00:43.482271",
     "exception": false,
     "start_time": "2020-11-21T14:00:43.414832",
     "status": "completed"
    },
    "tags": []
   },
   "source": [
    "As the first step we need to fill in the missing values. As we saw earlier \"Age\" and \"Embarked\" have some missing data which must be filled in. \n",
    "\n",
    "To replace the \"Age\" missing values with proper values we need to explore the relationship between \"Age\" and other features."
   ]
  },
  {
   "cell_type": "code",
   "execution_count": 14,
   "metadata": {
    "execution": {
     "iopub.execute_input": "2020-11-21T14:00:43.642743Z",
     "iopub.status.busy": "2020-11-21T14:00:43.639687Z",
     "iopub.status.idle": "2020-11-21T14:00:44.864756Z",
     "shell.execute_reply": "2020-11-21T14:00:44.864046Z"
    },
    "papermill": {
     "duration": 1.315089,
     "end_time": "2020-11-21T14:00:44.864933",
     "exception": false,
     "start_time": "2020-11-21T14:00:43.549844",
     "status": "completed"
    },
    "tags": []
   },
   "outputs": [
    {
     "data": {
      "image/png": "[encoded data removed]",
      "text/plain": [
       "<Figure size 1152x1008 with 6 Axes>"
      ]
     },
     "metadata": {
      "needs_background": "light"
     },
     "output_type": "display_data"
    }
   ],
   "source": [
    "fig, ax = plt.subplots(3,2, figsize=(16,14))\n",
    "sns.boxplot(x=\"Sex\", y=\"Age\", data=train, ax=ax[0,0] )\n",
    "sns.boxplot(x=\"Embarked\", y=\"Age\" ,data=train, ax=ax[0,1])\n",
    "sns.boxplot(x=\"Pclass\", y=\"Age\", data=train, ax=ax[1,0] )\n",
    "sns.boxplot(x=\"Parch\", y=\"Age\", data= train, ax=ax[1,1] )\n",
    "sns.boxplot(x=\"SibSp\", y=\"Age\", data= train, ax=ax[2,0] )\n",
    "sns.scatterplot(x=\"Fare\", y=\"Age\", data= train, ax=ax[2,1] )\n",
    "plt.show()\n"
   ]
  },
  {
   "cell_type": "markdown",
   "metadata": {
    "papermill": {
     "duration": 0.071528,
     "end_time": "2020-11-21T14:00:45.009522",
     "exception": false,
     "start_time": "2020-11-21T14:00:44.937994",
     "status": "completed"
    },
    "tags": []
   },
   "source": [
    "Among the features, it seems that only \"Pclass\", \"Parch\", and \"SibSp\" may help us in order to fill the missing value in \"Age\" column.\n",
    "To select the best one let's compute the average value of \"Age\" for each of those Features:"
   ]
  },
  {
   "cell_type": "code",
   "execution_count": 15,
   "metadata": {
    "execution": {
     "iopub.execute_input": "2020-11-21T14:00:45.185074Z",
     "iopub.status.busy": "2020-11-21T14:00:45.183836Z",
     "iopub.status.idle": "2020-11-21T14:00:45.191375Z",
     "shell.execute_reply": "2020-11-21T14:00:45.190710Z"
    },
    "papermill": {
     "duration": 0.105327,
     "end_time": "2020-11-21T14:00:45.191511",
     "exception": false,
     "start_time": "2020-11-21T14:00:45.086184",
     "status": "completed"
    },
    "tags": []
   },
   "outputs": [
    {
     "name": "stdout",
     "output_type": "stream",
     "text": [
      "Mean values of 'Age' per 'Pcalss' categories:\n",
      "Pclass\n",
      "1    38.233441\n",
      "2    29.877630\n",
      "3    25.140620\n",
      "Name: Age, dtype: float64\n",
      "*****************************\n",
      "Mean values of 'Age' per 'Parch' categories:\n",
      "Parch\n",
      "0    32.178503\n",
      "1    24.422000\n",
      "2    17.216912\n",
      "3    33.200000\n",
      "4    44.500000\n",
      "5    39.200000\n",
      "6    43.000000\n",
      "Name: Age, dtype: float64\n",
      "*****************************\n",
      "Mean values of 'Age' per 'SibSp' categories:\n",
      "SibSp\n",
      "0    31.397558\n",
      "1    30.089727\n",
      "2    22.620000\n",
      "3    13.916667\n",
      "4     7.055556\n",
      "5    10.200000\n",
      "8          NaN\n",
      "Name: Age, dtype: float64\n"
     ]
    }
   ],
   "source": [
    "print(\"Mean values of 'Age' per 'Pcalss' categories:\")\n",
    "print(train.groupby([\"Pclass\"])[\"Age\"].mean())\n",
    "print(\"*****************************\")\n",
    "print(\"Mean values of 'Age' per 'Parch' categories:\")\n",
    "print(train.groupby([\"Parch\"])[\"Age\"].mean())\n",
    "print(\"*****************************\")\n",
    "print(\"Mean values of 'Age' per 'SibSp' categories:\")\n",
    "print(train.groupby([\"SibSp\"])[\"Age\"].mean())"
   ]
  },
  {
   "cell_type": "markdown",
   "metadata": {
    "papermill": {
     "duration": 0.070762,
     "end_time": "2020-11-21T14:00:45.334558",
     "exception": false,
     "start_time": "2020-11-21T14:00:45.263796",
     "status": "completed"
    },
    "tags": []
   },
   "source": [
    "The results show that we can use either \"Pclass\" or \"Parch\" values to fill in \"Age\" missing data. Since the \"Age\" seems to be more distributed across the \"Parch\" classes, it might be more reasonable to use this feature for the filling in process. So let's fill in the \"Age\" missing values using the \"Parch\" feature. A simple function and then FunctionTransformer is implemented to make it possible to be used in a pipeline transform process."
   ]
  },
  {
   "cell_type": "code",
   "execution_count": 16,
   "metadata": {
    "execution": {
     "iopub.execute_input": "2020-11-21T14:00:45.489450Z",
     "iopub.status.busy": "2020-11-21T14:00:45.488223Z",
     "iopub.status.idle": "2020-11-21T14:00:45.492132Z",
     "shell.execute_reply": "2020-11-21T14:00:45.492728Z"
    },
    "papermill": {
     "duration": 0.087666,
     "end_time": "2020-11-21T14:00:45.492921",
     "exception": false,
     "start_time": "2020-11-21T14:00:45.405255",
     "status": "completed"
    },
    "tags": []
   },
   "outputs": [],
   "source": [
    "def ageImputer(X):\n",
    "    X['Age'] = X['Age'].fillna(train.groupby(['Parch'])['Age'].transform(np.mean))\n",
    "    return X"
   ]
  },
  {
   "cell_type": "markdown",
   "metadata": {
    "papermill": {
     "duration": 0.071301,
     "end_time": "2020-11-21T14:00:45.636392",
     "exception": false,
     "start_time": "2020-11-21T14:00:45.565091",
     "status": "completed"
    },
    "tags": []
   },
   "source": [
    "In addition to \"Age\" missing values, \"Embarked\" also contains two missing values:"
   ]
  },
  {
   "cell_type": "code",
   "execution_count": 17,
   "metadata": {
    "execution": {
     "iopub.execute_input": "2020-11-21T14:00:45.800095Z",
     "iopub.status.busy": "2020-11-21T14:00:45.799190Z",
     "iopub.status.idle": "2020-11-21T14:00:45.805418Z",
     "shell.execute_reply": "2020-11-21T14:00:45.804643Z"
    },
    "papermill": {
     "duration": 0.097182,
     "end_time": "2020-11-21T14:00:45.805546",
     "exception": false,
     "start_time": "2020-11-21T14:00:45.708364",
     "status": "completed"
    },
    "tags": []
   },
   "outputs": [
    {
     "data": {
      "text/html": [
       "<div>\n",
       "<style scoped>\n",
       "    .dataframe tbody tr th:only-of-type {\n",
       "        vertical-align: middle;\n",
       "    }\n",
       "\n",
       "    .dataframe tbody tr th {\n",
       "        vertical-align: top;\n",
       "    }\n",
       "\n",
       "    .dataframe thead th {\n",
       "        text-align: right;\n",
       "    }\n",
       "</style>\n",
       "<table border=\"1\" class=\"dataframe\">\n",
       "  <thead>\n",
       "    <tr style=\"text-align: right;\">\n",
       "      <th></th>\n",
       "      <th>PassengerId</th>\n",
       "      <th>Survived</th>\n",
       "      <th>Pclass</th>\n",
       "      <th>Name</th>\n",
       "      <th>Sex</th>\n",
       "      <th>Age</th>\n",
       "      <th>SibSp</th>\n",
       "      <th>Parch</th>\n",
       "      <th>Ticket</th>\n",
       "      <th>Fare</th>\n",
       "      <th>Cabin</th>\n",
       "      <th>Embarked</th>\n",
       "    </tr>\n",
       "  </thead>\n",
       "  <tbody>\n",
       "    <tr>\n",
       "      <th>61</th>\n",
       "      <td>62</td>\n",
       "      <td>1</td>\n",
       "      <td>1</td>\n",
       "      <td>Icard, Miss. Amelie</td>\n",
       "      <td>female</td>\n",
       "      <td>38.0</td>\n",
       "      <td>0</td>\n",
       "      <td>0</td>\n",
       "      <td>113572</td>\n",
       "      <td>80.0</td>\n",
       "      <td>B28</td>\n",
       "      <td>NaN</td>\n",
       "    </tr>\n",
       "    <tr>\n",
       "      <th>829</th>\n",
       "      <td>830</td>\n",
       "      <td>1</td>\n",
       "      <td>1</td>\n",
       "      <td>Stone, Mrs. George Nelson (Martha Evelyn)</td>\n",
       "      <td>female</td>\n",
       "      <td>62.0</td>\n",
       "      <td>0</td>\n",
       "      <td>0</td>\n",
       "      <td>113572</td>\n",
       "      <td>80.0</td>\n",
       "      <td>B28</td>\n",
       "      <td>NaN</td>\n",
       "    </tr>\n",
       "  </tbody>\n",
       "</table>\n",
       "</div>"
      ],
      "text/plain": [
       "     PassengerId  Survived  Pclass                                       Name  \\\n",
       "61            62         1       1                        Icard, Miss. Amelie   \n",
       "829          830         1       1  Stone, Mrs. George Nelson (Martha Evelyn)   \n",
       "\n",
       "        Sex   Age  SibSp  Parch  Ticket  Fare Cabin Embarked  \n",
       "61   female  38.0      0      0  113572  80.0   B28      NaN  \n",
       "829  female  62.0      0      0  113572  80.0   B28      NaN  "
      ]
     },
     "execution_count": 17,
     "metadata": {},
     "output_type": "execute_result"
    }
   ],
   "source": [
    "train[train[\"Embarked\"].isna()]"
   ]
  },
  {
   "cell_type": "markdown",
   "metadata": {
    "papermill": {
     "duration": 0.080656,
     "end_time": "2020-11-21T14:00:46.013517",
     "exception": false,
     "start_time": "2020-11-21T14:00:45.932861",
     "status": "completed"
    },
    "tags": []
   },
   "source": [
    "As we can see \"Sex\", \"Pclass\", \"Parch\", and \"SibSp\" are identical for these two rows which are \"female\", 1, 0, 0 respectively. We can fill in these two missing data based on the majority vote of those values. The following result candidate \"S\" as a suitable value for the missing data."
   ]
  },
  {
   "cell_type": "code",
   "execution_count": 18,
   "metadata": {
    "execution": {
     "iopub.execute_input": "2020-11-21T14:00:46.185410Z",
     "iopub.status.busy": "2020-11-21T14:00:46.184146Z",
     "iopub.status.idle": "2020-11-21T14:00:46.199287Z",
     "shell.execute_reply": "2020-11-21T14:00:46.198233Z"
    },
    "papermill": {
     "duration": 0.103983,
     "end_time": "2020-11-21T14:00:46.199448",
     "exception": false,
     "start_time": "2020-11-21T14:00:46.095465",
     "status": "completed"
    },
    "tags": []
   },
   "outputs": [
    {
     "name": "stdout",
     "output_type": "stream",
     "text": [
      "Sex     Embarked\n",
      "female  S           203\n",
      "        C            73\n",
      "        Q            36\n",
      "male    S           441\n",
      "        C            95\n",
      "        Q            41\n",
      "Name: Embarked, dtype: int64\n",
      "Pclass  Embarked\n",
      "1       S           127\n",
      "        C            85\n",
      "        Q             2\n",
      "2       S           164\n",
      "        C            17\n",
      "        Q             3\n",
      "3       S           353\n",
      "        Q            72\n",
      "        C            66\n",
      "Name: Embarked, dtype: int64\n"
     ]
    }
   ],
   "source": [
    "print(train.groupby([\"Sex\"])[\"Embarked\"].value_counts())\n",
    "print(train.groupby([\"Pclass\"])[\"Embarked\"].value_counts())"
   ]
  },
  {
   "cell_type": "code",
   "execution_count": 19,
   "metadata": {
    "execution": {
     "iopub.execute_input": "2020-11-21T14:00:46.361100Z",
     "iopub.status.busy": "2020-11-21T14:00:46.359976Z",
     "iopub.status.idle": "2020-11-21T14:00:46.363227Z",
     "shell.execute_reply": "2020-11-21T14:00:46.362441Z"
    },
    "papermill": {
     "duration": 0.083398,
     "end_time": "2020-11-21T14:00:46.363371",
     "exception": false,
     "start_time": "2020-11-21T14:00:46.279973",
     "status": "completed"
    },
    "tags": []
   },
   "outputs": [],
   "source": [
    "train['Embarked'] = train['Embarked'].fillna('S')"
   ]
  },
  {
   "cell_type": "markdown",
   "metadata": {
    "papermill": {
     "duration": 0.075514,
     "end_time": "2020-11-21T14:00:46.513862",
     "exception": false,
     "start_time": "2020-11-21T14:00:46.438348",
     "status": "completed"
    },
    "tags": []
   },
   "source": [
    "## 3-2)Droping unhelpful features"
   ]
  },
  {
   "cell_type": "markdown",
   "metadata": {
    "papermill": {
     "duration": 0.077594,
     "end_time": "2020-11-21T14:00:46.668660",
     "exception": false,
     "start_time": "2020-11-21T14:00:46.591066",
     "status": "completed"
    },
    "tags": []
   },
   "source": [
    "As is is explained earlier we need to drop {\"Name\", \"Ticket\", \"Cabin\"} from our data."
   ]
  },
  {
   "cell_type": "code",
   "execution_count": 20,
   "metadata": {
    "execution": {
     "iopub.execute_input": "2020-11-21T14:00:46.826782Z",
     "iopub.status.busy": "2020-11-21T14:00:46.825960Z",
     "iopub.status.idle": "2020-11-21T14:00:46.829947Z",
     "shell.execute_reply": "2020-11-21T14:00:46.829124Z"
    },
    "papermill": {
     "duration": 0.088641,
     "end_time": "2020-11-21T14:00:46.830088",
     "exception": false,
     "start_time": "2020-11-21T14:00:46.741447",
     "status": "completed"
    },
    "tags": []
   },
   "outputs": [],
   "source": [
    "def featuresDropper(X):\n",
    "    return X.drop(columns=[\"Name\", \"Ticket\", \"Cabin\"])\n"
   ]
  },
  {
   "cell_type": "markdown",
   "metadata": {
    "papermill": {
     "duration": 0.073168,
     "end_time": "2020-11-21T14:00:46.979073",
     "exception": false,
     "start_time": "2020-11-21T14:00:46.905905",
     "status": "completed"
    },
    "tags": []
   },
   "source": [
    "## 3-3) Categorical features to numerical"
   ]
  },
  {
   "cell_type": "markdown",
   "metadata": {
    "papermill": {
     "duration": 0.082343,
     "end_time": "2020-11-21T14:00:47.143032",
     "exception": false,
     "start_time": "2020-11-21T14:00:47.060689",
     "status": "completed"
    },
    "tags": []
   },
   "source": [
    "Another important step in feature preparation is to map the categorical values into some numerical values in order to be able to feed the machine learning algorithm with the categorical inputs. As we noticed earlier \"Sex\" and \"Embarked\" values are not numeric. To map those features into numerical ones, pandas get_dummies function is implemented."
   ]
  },
  {
   "cell_type": "code",
   "execution_count": 21,
   "metadata": {
    "execution": {
     "iopub.execute_input": "2020-11-21T14:00:47.305471Z",
     "iopub.status.busy": "2020-11-21T14:00:47.304327Z",
     "iopub.status.idle": "2020-11-21T14:00:47.308054Z",
     "shell.execute_reply": "2020-11-21T14:00:47.307226Z"
    },
    "papermill": {
     "duration": 0.087394,
     "end_time": "2020-11-21T14:00:47.308195",
     "exception": false,
     "start_time": "2020-11-21T14:00:47.220801",
     "status": "completed"
    },
    "tags": []
   },
   "outputs": [],
   "source": [
    "def catToDum(X):\n",
    "    sex_df = pd.get_dummies(X['Sex'],drop_first=True)\n",
    "    embark_df = pd.get_dummies(X['Embarked'],drop_first=True)\n",
    "    finalData = X.drop([\"Sex\", \"Embarked\"], axis=1)\n",
    "    return pd.concat([finalData, sex_df, embark_df], axis=1)\n",
    "\n"
   ]
  },
  {
   "cell_type": "markdown",
   "metadata": {
    "papermill": {
     "duration": 0.072308,
     "end_time": "2020-11-21T14:00:47.454211",
     "exception": false,
     "start_time": "2020-11-21T14:00:47.381903",
     "status": "completed"
    },
    "tags": []
   },
   "source": [
    "Having all the preprocessing functions at hand, we now can simply use the pipeline process from sklearn to transform our dataset to the prepared data in order to train the machine learning classifiers."
   ]
  },
  {
   "cell_type": "code",
   "execution_count": 22,
   "metadata": {
    "execution": {
     "iopub.execute_input": "2020-11-21T14:00:47.751986Z",
     "iopub.status.busy": "2020-11-21T14:00:47.750982Z",
     "iopub.status.idle": "2020-11-21T14:00:47.756516Z",
     "shell.execute_reply": "2020-11-21T14:00:47.755775Z"
    },
    "papermill": {
     "duration": 0.228243,
     "end_time": "2020-11-21T14:00:47.756661",
     "exception": false,
     "start_time": "2020-11-21T14:00:47.528418",
     "status": "completed"
    },
    "tags": []
   },
   "outputs": [
    {
     "data": {
      "text/html": [
       "<div>\n",
       "<style scoped>\n",
       "    .dataframe tbody tr th:only-of-type {\n",
       "        vertical-align: middle;\n",
       "    }\n",
       "\n",
       "    .dataframe tbody tr th {\n",
       "        vertical-align: top;\n",
       "    }\n",
       "\n",
       "    .dataframe thead th {\n",
       "        text-align: right;\n",
       "    }\n",
       "</style>\n",
       "<table border=\"1\" class=\"dataframe\">\n",
       "  <thead>\n",
       "    <tr style=\"text-align: right;\">\n",
       "      <th></th>\n",
       "      <th>PassengerId</th>\n",
       "      <th>Survived</th>\n",
       "      <th>Pclass</th>\n",
       "      <th>Age</th>\n",
       "      <th>SibSp</th>\n",
       "      <th>Parch</th>\n",
       "      <th>Fare</th>\n",
       "      <th>male</th>\n",
       "      <th>Q</th>\n",
       "      <th>S</th>\n",
       "    </tr>\n",
       "  </thead>\n",
       "  <tbody>\n",
       "    <tr>\n",
       "      <th>0</th>\n",
       "      <td>1</td>\n",
       "      <td>0</td>\n",
       "      <td>3</td>\n",
       "      <td>22.0</td>\n",
       "      <td>1</td>\n",
       "      <td>0</td>\n",
       "      <td>7.2500</td>\n",
       "      <td>1</td>\n",
       "      <td>0</td>\n",
       "      <td>1</td>\n",
       "    </tr>\n",
       "    <tr>\n",
       "      <th>1</th>\n",
       "      <td>2</td>\n",
       "      <td>1</td>\n",
       "      <td>1</td>\n",
       "      <td>38.0</td>\n",
       "      <td>1</td>\n",
       "      <td>0</td>\n",
       "      <td>71.2833</td>\n",
       "      <td>0</td>\n",
       "      <td>0</td>\n",
       "      <td>0</td>\n",
       "    </tr>\n",
       "    <tr>\n",
       "      <th>2</th>\n",
       "      <td>3</td>\n",
       "      <td>1</td>\n",
       "      <td>3</td>\n",
       "      <td>26.0</td>\n",
       "      <td>0</td>\n",
       "      <td>0</td>\n",
       "      <td>7.9250</td>\n",
       "      <td>0</td>\n",
       "      <td>0</td>\n",
       "      <td>1</td>\n",
       "    </tr>\n",
       "    <tr>\n",
       "      <th>3</th>\n",
       "      <td>4</td>\n",
       "      <td>1</td>\n",
       "      <td>1</td>\n",
       "      <td>35.0</td>\n",
       "      <td>1</td>\n",
       "      <td>0</td>\n",
       "      <td>53.1000</td>\n",
       "      <td>0</td>\n",
       "      <td>0</td>\n",
       "      <td>1</td>\n",
       "    </tr>\n",
       "    <tr>\n",
       "      <th>4</th>\n",
       "      <td>5</td>\n",
       "      <td>0</td>\n",
       "      <td>3</td>\n",
       "      <td>35.0</td>\n",
       "      <td>0</td>\n",
       "      <td>0</td>\n",
       "      <td>8.0500</td>\n",
       "      <td>1</td>\n",
       "      <td>0</td>\n",
       "      <td>1</td>\n",
       "    </tr>\n",
       "  </tbody>\n",
       "</table>\n",
       "</div>"
      ],
      "text/plain": [
       "   PassengerId  Survived  Pclass   Age  SibSp  Parch     Fare  male  Q  S\n",
       "0            1         0       3  22.0      1      0   7.2500     1  0  1\n",
       "1            2         1       1  38.0      1      0  71.2833     0  0  0\n",
       "2            3         1       3  26.0      0      0   7.9250     0  0  1\n",
       "3            4         1       1  35.0      1      0  53.1000     0  0  1\n",
       "4            5         0       3  35.0      0      0   8.0500     1  0  1"
      ]
     },
     "execution_count": 22,
     "metadata": {},
     "output_type": "execute_result"
    }
   ],
   "source": [
    "prep_pipeline = Pipeline([\n",
    "        ('imputer', FunctionTransformer(ageImputer, validate=False)),\n",
    "        ('features_droper', FunctionTransformer(featuresDropper, validate=False)),\n",
    "        ('cat_to_dum', FunctionTransformer(catToDum, validate=False)),\n",
    "    ])\n",
    "\n",
    "finalData = prep_pipeline.fit_transform(train)\n",
    "\n",
    "finalData.head()"
   ]
  },
  {
   "cell_type": "code",
   "execution_count": 23,
   "metadata": {
    "execution": {
     "iopub.execute_input": "2020-11-21T14:00:47.910383Z",
     "iopub.status.busy": "2020-11-21T14:00:47.909514Z",
     "iopub.status.idle": "2020-11-21T14:00:48.034621Z",
     "shell.execute_reply": "2020-11-21T14:00:48.033658Z"
    },
    "papermill": {
     "duration": 0.204063,
     "end_time": "2020-11-21T14:00:48.034780",
     "exception": false,
     "start_time": "2020-11-21T14:00:47.830717",
     "status": "completed"
    },
    "tags": []
   },
   "outputs": [
    {
     "data": {
      "image/png": "[encoded data removed]",
      "text/plain": [
       "<Figure size 432x288 with 1 Axes>"
      ]
     },
     "metadata": {
      "needs_background": "light"
     },
     "output_type": "display_data"
    }
   ],
   "source": [
    "sns.heatmap(finalData.isnull(), yticklabels=False,cmap=\"YlOrBr\", cbar=False);"
   ]
  },
  {
   "cell_type": "markdown",
   "metadata": {
    "papermill": {
     "duration": 0.075593,
     "end_time": "2020-11-21T14:00:48.190004",
     "exception": false,
     "start_time": "2020-11-21T14:00:48.114411",
     "status": "completed"
    },
    "tags": []
   },
   "source": [
    "As it is obvious, the dataset contains no missing data. The unhelpful columns have been dropped and the categorical features have been converted to their dumies.\n",
    "The data set is now ready to train the models and evaluate them. To do so we need to split the data into train and test sets."
   ]
  },
  {
   "cell_type": "markdown",
   "metadata": {
    "papermill": {
     "duration": 0.073878,
     "end_time": "2020-11-21T14:00:48.342422",
     "exception": false,
     "start_time": "2020-11-21T14:00:48.268544",
     "status": "completed"
    },
    "tags": []
   },
   "source": [
    "## 3-4) Splitting the final data into train and test"
   ]
  },
  {
   "cell_type": "code",
   "execution_count": 24,
   "metadata": {
    "execution": {
     "iopub.execute_input": "2020-11-21T14:00:48.498536Z",
     "iopub.status.busy": "2020-11-21T14:00:48.497768Z",
     "iopub.status.idle": "2020-11-21T14:00:48.516091Z",
     "shell.execute_reply": "2020-11-21T14:00:48.515430Z"
    },
    "papermill": {
     "duration": 0.099799,
     "end_time": "2020-11-21T14:00:48.516234",
     "exception": false,
     "start_time": "2020-11-21T14:00:48.416435",
     "status": "completed"
    },
    "tags": []
   },
   "outputs": [],
   "source": [
    "X_train, X_test, y_train, y_test = train_test_split(finalData[['Pclass', 'Age', 'SibSp', 'Parch','Fare', 'male', 'Q', 'S']],\n",
    "                                                    finalData[['Survived']], test_size=0.15, random_state=41,\n",
    "                                                    stratify=finalData[['Survived']])"
   ]
  },
  {
   "cell_type": "code",
   "execution_count": 25,
   "metadata": {
    "execution": {
     "iopub.execute_input": "2020-11-21T14:00:48.673689Z",
     "iopub.status.busy": "2020-11-21T14:00:48.672672Z",
     "iopub.status.idle": "2020-11-21T14:00:48.676541Z",
     "shell.execute_reply": "2020-11-21T14:00:48.677231Z"
    },
    "papermill": {
     "duration": 0.08642,
     "end_time": "2020-11-21T14:00:48.677519",
     "exception": false,
     "start_time": "2020-11-21T14:00:48.591099",
     "status": "completed"
    },
    "tags": []
   },
   "outputs": [
    {
     "name": "stdout",
     "output_type": "stream",
     "text": [
      "X_train Shape:(757, 8)\n",
      "y_train Shape:(757, 1)\n",
      "X_test Shape:(134, 8)\n",
      "y_test Shape:(134, 1)\n"
     ]
    }
   ],
   "source": [
    "print('X_train Shape:{}'.format(X_train.shape))\n",
    "print('y_train Shape:{}'.format(y_train.shape))\n",
    "print('X_test Shape:{}'.format(X_test.shape))\n",
    "print('y_test Shape:{}'.format(y_test.shape))"
   ]
  },
  {
   "cell_type": "markdown",
   "metadata": {
    "papermill": {
     "duration": 0.076625,
     "end_time": "2020-11-21T14:00:48.830930",
     "exception": false,
     "start_time": "2020-11-21T14:00:48.754305",
     "status": "completed"
    },
    "tags": []
   },
   "source": [
    "# 4)Training and Evaluation"
   ]
  },
  {
   "cell_type": "markdown",
   "metadata": {
    "papermill": {
     "duration": 0.07875,
     "end_time": "2020-11-21T14:00:48.989071",
     "exception": false,
     "start_time": "2020-11-21T14:00:48.910321",
     "status": "completed"
    },
    "tags": []
   },
   "source": [
    "The following are the various models have been trained on our training data. cross validation grid search was implemented to tune the hyperparameters and finally the best estimator was evaluated by applying it on our test set. A classification report consisting the acccuracy,F1, recall, and precision for each model is shown."
   ]
  },
  {
   "cell_type": "markdown",
   "metadata": {
    "papermill": {
     "duration": 0.082813,
     "end_time": "2020-11-21T14:00:49.161098",
     "exception": false,
     "start_time": "2020-11-21T14:00:49.078285",
     "status": "completed"
    },
    "tags": []
   },
   "source": [
    "## 4-1)NaiveBayes"
   ]
  },
  {
   "cell_type": "code",
   "execution_count": 26,
   "metadata": {
    "execution": {
     "iopub.execute_input": "2020-11-21T14:00:49.387653Z",
     "iopub.status.busy": "2020-11-21T14:00:49.386384Z",
     "iopub.status.idle": "2020-11-21T14:00:49.668330Z",
     "shell.execute_reply": "2020-11-21T14:00:49.667053Z"
    },
    "papermill": {
     "duration": 0.410417,
     "end_time": "2020-11-21T14:00:49.668589",
     "exception": false,
     "start_time": "2020-11-21T14:00:49.258172",
     "status": "completed"
    },
    "tags": []
   },
   "outputs": [
    {
     "name": "stdout",
     "output_type": "stream",
     "text": [
      "Best Parameters:\n",
      "\n",
      "\tscaler__with_mean : True\n",
      "\tscaler__with_std : True\n",
      "\n",
      "Best Score: 0.7741983269431858\n",
      "Performance on the test data\n",
      "\n",
      "              precision    recall  f1-score   support\n",
      "\n",
      "           0       0.87      0.88      0.87        83\n",
      "           1       0.80      0.78      0.79        51\n",
      "\n",
      "    accuracy                           0.84       134\n",
      "   macro avg       0.83      0.83      0.83       134\n",
      "weighted avg       0.84      0.84      0.84       134\n",
      "\n"
     ]
    }
   ],
   "source": [
    "\n",
    "pipeline = Pipeline([('scaler', StandardScaler()),                 \n",
    "                     ('clf', GaussianNB())])\n",
    "\n",
    "params = {'scaler__with_mean':(True, False),\n",
    "          'scaler__with_std':(True, False)\n",
    "         }\n",
    "\n",
    "grid_search = GridSearchCV(pipeline, params, verbose=0)\n",
    "\n",
    "grid_search.fit(X_train, y_train)\n",
    "\n",
    "#Best score and parameters\n",
    "print(\"Best Parameters:\\n\")\n",
    "for k,v in grid_search.best_params_.items():\n",
    "    print(f\"\\t{k} : {v}\")\n",
    "print()\n",
    "print(f\"Best Score: {grid_search.best_score_}\")\n",
    "\n",
    "\n",
    "#Best estimator\n",
    "print(\"Performance on the test data\")\n",
    "bestEstimator = grid_search.best_estimator_\n",
    "\n",
    "bestEstimator.fit(X_train, y_train)\n",
    "pred = bestEstimator.predict(X_test)\n",
    "print()\n",
    "print(classification_report(y_test, pred))\n"
   ]
  },
  {
   "cell_type": "markdown",
   "metadata": {
    "papermill": {
     "duration": 0.081546,
     "end_time": "2020-11-21T14:00:49.836198",
     "exception": false,
     "start_time": "2020-11-21T14:00:49.754652",
     "status": "completed"
    },
    "tags": []
   },
   "source": [
    "## 4-2)Logistic Regression"
   ]
  },
  {
   "cell_type": "code",
   "execution_count": 27,
   "metadata": {
    "execution": {
     "iopub.execute_input": "2020-11-21T14:00:50.009651Z",
     "iopub.status.busy": "2020-11-21T14:00:50.007093Z",
     "iopub.status.idle": "2020-11-21T14:00:50.414306Z",
     "shell.execute_reply": "2020-11-21T14:00:50.413300Z"
    },
    "papermill": {
     "duration": 0.500456,
     "end_time": "2020-11-21T14:00:50.414468",
     "exception": false,
     "start_time": "2020-11-21T14:00:49.914012",
     "status": "completed"
    },
    "tags": []
   },
   "outputs": [
    {
     "name": "stdout",
     "output_type": "stream",
     "text": [
      "Best Parameters:\n",
      "\n",
      "\tclf__C : 0.01\n",
      "\n",
      "Best Score: 0.8006099686301849\n",
      "Performance on the test data\n",
      "\n",
      "              precision    recall  f1-score   support\n",
      "\n",
      "           0       0.84      0.95      0.89        83\n",
      "           1       0.90      0.71      0.79        51\n",
      "\n",
      "    accuracy                           0.86       134\n",
      "   macro avg       0.87      0.83      0.84       134\n",
      "weighted avg       0.86      0.86      0.85       134\n",
      "\n"
     ]
    }
   ],
   "source": [
    "\n",
    "\n",
    "pipeline = Pipeline([('scaler', StandardScaler()),                 \n",
    "                     ('clf', LogisticRegression())])\n",
    "\n",
    "params = {#'scaler__with_mean':(True, False),\n",
    "          #'scaler__with_std':(True, False),\n",
    "          'clf__C':(0.01, 1, 10, 100)          \n",
    "         }\n",
    "\n",
    "grid_search = GridSearchCV(pipeline, params, verbose=0)\n",
    "\n",
    "grid_search.fit(X_train, y_train)\n",
    "\n",
    "#Best score and parameters\n",
    "print(\"Best Parameters:\\n\")\n",
    "for k,v in grid_search.best_params_.items():\n",
    "    print(f\"\\t{k} : {v}\")\n",
    "print()\n",
    "print(f\"Best Score: {grid_search.best_score_}\")\n",
    "\n",
    "\n",
    "#Best estimator\n",
    "print(\"Performance on the test data\")\n",
    "bestEstimator = grid_search.best_estimator_\n",
    "\n",
    "bestEstimator.fit(X_train, y_train)\n",
    "pred = bestEstimator.predict(X_test)\n",
    "print()\n",
    "print(classification_report(y_test, pred))\n"
   ]
  },
  {
   "cell_type": "markdown",
   "metadata": {
    "papermill": {
     "duration": 0.078685,
     "end_time": "2020-11-21T14:00:50.573572",
     "exception": false,
     "start_time": "2020-11-21T14:00:50.494887",
     "status": "completed"
    },
    "tags": []
   },
   "source": [
    "## 4-3)KNeighborsClassifier"
   ]
  },
  {
   "cell_type": "code",
   "execution_count": 28,
   "metadata": {
    "execution": {
     "iopub.execute_input": "2020-11-21T14:00:50.747616Z",
     "iopub.status.busy": "2020-11-21T14:00:50.739951Z",
     "iopub.status.idle": "2020-11-21T14:00:53.840073Z",
     "shell.execute_reply": "2020-11-21T14:00:53.839004Z"
    },
    "papermill": {
     "duration": 3.18788,
     "end_time": "2020-11-21T14:00:53.840277",
     "exception": false,
     "start_time": "2020-11-21T14:00:50.652397",
     "status": "completed"
    },
    "tags": []
   },
   "outputs": [
    {
     "name": "stdout",
     "output_type": "stream",
     "text": [
      "Best Parameters:\n",
      "\n",
      "\tclf__n_neighbors : 10\n",
      "\tclf__p : 1\n",
      "\tclf__weights : uniform\n",
      "\tscaler__with_mean : True\n",
      "\tscaler__with_std : True\n",
      "\n",
      "Best Score: 0.800522830254444\n",
      "Performance on the test data\n",
      "\n",
      "              precision    recall  f1-score   support\n",
      "\n",
      "           0       0.84      0.96      0.90        83\n",
      "           1       0.92      0.71      0.80        51\n",
      "\n",
      "    accuracy                           0.87       134\n",
      "   macro avg       0.88      0.83      0.85       134\n",
      "weighted avg       0.87      0.87      0.86       134\n",
      "\n"
     ]
    }
   ],
   "source": [
    "\n",
    "\n",
    "pipeline = Pipeline([('scaler', StandardScaler()),                 \n",
    "                     ('clf', KNeighborsClassifier())])\n",
    "\n",
    "params = {'scaler__with_mean':(True, False),\n",
    "          'scaler__with_std':(True, False),\n",
    "          'clf__n_neighbors':(5,10),\n",
    "          'clf__weights':('uniform', 'distance'),\n",
    "          'clf__p':(1,2)\n",
    "          \n",
    "         }\n",
    "\n",
    "grid_search = GridSearchCV(pipeline, params, verbose=0)\n",
    "\n",
    "grid_search.fit(X_train, y_train)\n",
    "\n",
    "#Best score and parameters\n",
    "print(\"Best Parameters:\\n\")\n",
    "for k,v in grid_search.best_params_.items():\n",
    "    print(f\"\\t{k} : {v}\")\n",
    "print()\n",
    "print(f\"Best Score: {grid_search.best_score_}\")\n",
    "\n",
    "\n",
    "#Best estimator\n",
    "print(\"Performance on the test data\")\n",
    "bestEstimator = grid_search.best_estimator_\n",
    "\n",
    "bestEstimator.fit(X_train, y_train)\n",
    "pred = bestEstimator.predict(X_test)\n",
    "print()\n",
    "print(classification_report(y_test, pred))\n",
    "\n"
   ]
  },
  {
   "cell_type": "markdown",
   "metadata": {
    "papermill": {
     "duration": 0.087965,
     "end_time": "2020-11-21T14:00:54.009992",
     "exception": false,
     "start_time": "2020-11-21T14:00:53.922027",
     "status": "completed"
    },
    "tags": []
   },
   "source": [
    "## 4-4)SVC"
   ]
  },
  {
   "cell_type": "code",
   "execution_count": 29,
   "metadata": {
    "execution": {
     "iopub.execute_input": "2020-11-21T14:00:54.208269Z",
     "iopub.status.busy": "2020-11-21T14:00:54.207417Z",
     "iopub.status.idle": "2020-11-21T14:00:57.499195Z",
     "shell.execute_reply": "2020-11-21T14:00:57.500105Z"
    },
    "papermill": {
     "duration": 3.388537,
     "end_time": "2020-11-21T14:00:57.500328",
     "exception": false,
     "start_time": "2020-11-21T14:00:54.111791",
     "status": "completed"
    },
    "tags": []
   },
   "outputs": [
    {
     "name": "stdout",
     "output_type": "stream",
     "text": [
      "Best Parameters:\n",
      "\n",
      "\tclf__C : 1\n",
      "\tclf__kernel : rbf\n",
      "\tscaler__with_mean : True\n",
      "\tscaler__with_std : True\n",
      "\n",
      "Best Score: 0.8151359358661555\n",
      "Performance on the test data\n",
      "\n",
      "              precision    recall  f1-score   support\n",
      "\n",
      "           0       0.85      0.98      0.91        83\n",
      "           1       0.95      0.73      0.82        51\n",
      "\n",
      "    accuracy                           0.88       134\n",
      "   macro avg       0.90      0.85      0.87       134\n",
      "weighted avg       0.89      0.88      0.88       134\n",
      "\n"
     ]
    }
   ],
   "source": [
    "\n",
    "\n",
    "pipeline = Pipeline([('scaler', StandardScaler()),                 \n",
    "                     ('clf', SVC())])\n",
    "\n",
    "params = {'scaler__with_mean':(True, False),\n",
    "          'scaler__with_std':(True, False),\n",
    "          'clf__C':(0.5, 1),\n",
    "          'clf__kernel':('poly', 'rbf', 'sigmoid')\n",
    "           \n",
    "         }\n",
    "\n",
    "grid_search = GridSearchCV(pipeline, params, verbose=0)\n",
    "\n",
    "grid_search.fit(X_train, y_train)\n",
    "\n",
    "#Best score and parameters\n",
    "print(\"Best Parameters:\\n\")\n",
    "for k,v in grid_search.best_params_.items():\n",
    "    print(f\"\\t{k} : {v}\")\n",
    "print()\n",
    "print(f\"Best Score: {grid_search.best_score_}\")\n",
    "\n",
    "\n",
    "#Best estimator\n",
    "print(\"Performance on the test data\")\n",
    "bestEstimator = grid_search.best_estimator_\n",
    "\n",
    "bestEstimator.fit(X_train, y_train)\n",
    "pred = bestEstimator.predict(X_test)\n",
    "print()\n",
    "print(classification_report(y_test, pred))\n",
    "\n"
   ]
  },
  {
   "cell_type": "markdown",
   "metadata": {
    "papermill": {
     "duration": 0.080989,
     "end_time": "2020-11-21T14:00:57.662244",
     "exception": false,
     "start_time": "2020-11-21T14:00:57.581255",
     "status": "completed"
    },
    "tags": []
   },
   "source": [
    "## 4-5)DecisionTreeClassifier"
   ]
  },
  {
   "cell_type": "code",
   "execution_count": 30,
   "metadata": {
    "execution": {
     "iopub.execute_input": "2020-11-21T14:00:57.841509Z",
     "iopub.status.busy": "2020-11-21T14:00:57.840669Z",
     "iopub.status.idle": "2020-11-21T14:01:01.127327Z",
     "shell.execute_reply": "2020-11-21T14:01:01.125969Z"
    },
    "papermill": {
     "duration": 3.382679,
     "end_time": "2020-11-21T14:01:01.127490",
     "exception": false,
     "start_time": "2020-11-21T14:00:57.744811",
     "status": "completed"
    },
    "tags": []
   },
   "outputs": [
    {
     "name": "stdout",
     "output_type": "stream",
     "text": [
      "Best Parameters:\n",
      "\n",
      "\tclf__criterion : gini\n",
      "\tclf__max_features : auto\n",
      "\tclf__splitter : random\n",
      "\tscaler__with_mean : False\n",
      "\tscaler__with_std : True\n",
      "\n",
      "Best Score: 0.7740850470547229\n",
      "Performance on the test data\n",
      "\n",
      "              precision    recall  f1-score   support\n",
      "\n",
      "           0       0.81      0.80      0.80        83\n",
      "           1       0.68      0.71      0.69        51\n",
      "\n",
      "    accuracy                           0.76       134\n",
      "   macro avg       0.75      0.75      0.75       134\n",
      "weighted avg       0.76      0.76      0.76       134\n",
      "\n"
     ]
    }
   ],
   "source": [
    "\n",
    "\n",
    "pipeline = Pipeline([('scaler', StandardScaler()),                 \n",
    "                     ('clf', DecisionTreeClassifier())])\n",
    "\n",
    "params = {'scaler__with_mean':(True, False),\n",
    "          'scaler__with_std':(True, False),\n",
    "          'clf__criterion': ('gini', 'entropy'),\n",
    "          'clf__splitter': ('best', 'random'),\n",
    "          'clf__max_features':('auto', 'sqrt','log2')\n",
    "         }\n",
    "\n",
    "grid_search = GridSearchCV(pipeline, params, verbose=0)\n",
    "\n",
    "grid_search.fit(X_train, y_train)\n",
    "\n",
    "#Best score and parameters\n",
    "print(\"Best Parameters:\\n\")\n",
    "for k,v in grid_search.best_params_.items():\n",
    "    print(f\"\\t{k} : {v}\")\n",
    "print()\n",
    "print(f\"Best Score: {grid_search.best_score_}\")\n",
    "\n",
    "\n",
    "#Best estimator\n",
    "print(\"Performance on the test data\")\n",
    "bestEstimator = grid_search.best_estimator_\n",
    "\n",
    "bestEstimator.fit(X_train, y_train)\n",
    "pred = bestEstimator.predict(X_test)\n",
    "print()\n",
    "print(classification_report(y_test, pred))"
   ]
  },
  {
   "cell_type": "markdown",
   "metadata": {
    "papermill": {
     "duration": 0.09879,
     "end_time": "2020-11-21T14:01:01.316765",
     "exception": false,
     "start_time": "2020-11-21T14:01:01.217975",
     "status": "completed"
    },
    "tags": []
   },
   "source": [
    "## 4-6)GradientBoostingClassifier"
   ]
  },
  {
   "cell_type": "code",
   "execution_count": 31,
   "metadata": {
    "execution": {
     "iopub.execute_input": "2020-11-21T14:01:01.494088Z",
     "iopub.status.busy": "2020-11-21T14:01:01.492969Z",
     "iopub.status.idle": "2020-11-21T14:03:40.876273Z",
     "shell.execute_reply": "2020-11-21T14:03:40.877238Z"
    },
    "papermill": {
     "duration": 159.477991,
     "end_time": "2020-11-21T14:03:40.877510",
     "exception": false,
     "start_time": "2020-11-21T14:01:01.399519",
     "status": "completed"
    },
    "tags": []
   },
   "outputs": [
    {
     "name": "stdout",
     "output_type": "stream",
     "text": [
      "Best Parameters:\n",
      "\n",
      "\tclf__learning_rate : 0.1\n",
      "\tclf__max_features : auto\n",
      "\tclf__n_estimators : 100\n",
      "\tclf__subsample : 0.5\n",
      "\tscaler__with_mean : False\n",
      "\tscaler__with_std : False\n",
      "\n",
      "Best Score: 0.8270303241547579\n",
      "Performance on the test data\n",
      "\n",
      "              precision    recall  f1-score   support\n",
      "\n",
      "           0       0.84      0.92      0.88        83\n",
      "           1       0.84      0.73      0.78        51\n",
      "\n",
      "    accuracy                           0.84       134\n",
      "   macro avg       0.84      0.82      0.83       134\n",
      "weighted avg       0.84      0.84      0.84       134\n",
      "\n"
     ]
    }
   ],
   "source": [
    "\n",
    "\n",
    "pipeline = Pipeline([('scaler', StandardScaler()),                 \n",
    "                     ('clf', GradientBoostingClassifier())])\n",
    "\n",
    "params = {'scaler__with_mean':(True, False),\n",
    "          'scaler__with_std':(True, False),\n",
    "          'clf__learning_rate': (0.01, 0.1),            \n",
    "          'clf__n_estimators': (100,200,300),\n",
    "          'clf__subsample': (0.5, 1),          \n",
    "          'clf__max_features':('auto', 'sqrt','log2')\n",
    "         }\n",
    "\n",
    "grid_search = GridSearchCV(pipeline, params, verbose=0)\n",
    "\n",
    "grid_search.fit(X_train, y_train)\n",
    "\n",
    "#Best score and parameters\n",
    "print(\"Best Parameters:\\n\")\n",
    "for k,v in grid_search.best_params_.items():\n",
    "    print(f\"\\t{k} : {v}\")\n",
    "print()\n",
    "print(f\"Best Score: {grid_search.best_score_}\")\n",
    "\n",
    "\n",
    "#Best estimator\n",
    "print(\"Performance on the test data\")\n",
    "bestEstimator = grid_search.best_estimator_\n",
    "\n",
    "bestEstimator.fit(X_train, y_train)\n",
    "pred = bestEstimator.predict(X_test)\n",
    "print()\n",
    "print(classification_report(y_test, pred))\n"
   ]
  },
  {
   "cell_type": "markdown",
   "metadata": {
    "papermill": {
     "duration": 0.086918,
     "end_time": "2020-11-21T14:03:41.044855",
     "exception": false,
     "start_time": "2020-11-21T14:03:40.957937",
     "status": "completed"
    },
    "tags": []
   },
   "source": [
    "## 4-7)RandomForestClassifier"
   ]
  },
  {
   "cell_type": "code",
   "execution_count": 32,
   "metadata": {
    "execution": {
     "iopub.execute_input": "2020-11-21T14:03:41.215273Z",
     "iopub.status.busy": "2020-11-21T14:03:41.211449Z",
     "iopub.status.idle": "2020-11-21T14:07:05.368984Z",
     "shell.execute_reply": "2020-11-21T14:07:05.368237Z"
    },
    "papermill": {
     "duration": 204.244278,
     "end_time": "2020-11-21T14:07:05.369127",
     "exception": false,
     "start_time": "2020-11-21T14:03:41.124849",
     "status": "completed"
    },
    "tags": []
   },
   "outputs": [
    {
     "name": "stdout",
     "output_type": "stream",
     "text": [
      "Best Parameters:\n",
      "\n",
      "\tclf__criterion : entropy\n",
      "\tclf__max_features : log2\n",
      "\tclf__n_estimators : 100\n",
      "\tscaler__with_mean : True\n",
      "\tscaler__with_std : False\n",
      "\n",
      "Best Score: 0.7979435343325201\n",
      "Performance on the test data\n",
      "\n",
      "              precision    recall  f1-score   support\n",
      "\n",
      "           0       0.87      0.90      0.89        83\n",
      "           1       0.83      0.78      0.81        51\n",
      "\n",
      "    accuracy                           0.86       134\n",
      "   macro avg       0.85      0.84      0.85       134\n",
      "weighted avg       0.86      0.86      0.86       134\n",
      "\n"
     ]
    }
   ],
   "source": [
    "\n",
    "\n",
    "pipeline = Pipeline([('scaler', StandardScaler()),                 \n",
    "                     ('clf', RandomForestClassifier())])\n",
    "\n",
    "params = {'scaler__with_mean':(True, False),\n",
    "          'scaler__with_std':(True, False),\n",
    "          'clf__criterion': ('gini', 'entropy'),            \n",
    "          'clf__n_estimators': (100,200,300),          \n",
    "          'clf__max_features':('auto', 'sqrt','log2')\n",
    "         }\n",
    "\n",
    "grid_search = GridSearchCV(pipeline, params, verbose=0)\n",
    "\n",
    "grid_search.fit(X_train, y_train)\n",
    "\n",
    "#Best score and parameters\n",
    "print(\"Best Parameters:\\n\")\n",
    "for k,v in grid_search.best_params_.items():\n",
    "    print(f\"\\t{k} : {v}\")\n",
    "print()\n",
    "print(f\"Best Score: {grid_search.best_score_}\")\n",
    "\n",
    "\n",
    "#Best estimator\n",
    "print(\"Performance on the test data\")\n",
    "bestEstimator = grid_search.best_estimator_\n",
    "\n",
    "bestEstimator.fit(X_train, y_train)\n",
    "pred = bestEstimator.predict(X_test)\n",
    "print()\n",
    "print(classification_report(y_test, pred))\n",
    "\n"
   ]
  },
  {
   "cell_type": "markdown",
   "metadata": {
    "papermill": {
     "duration": 0.078508,
     "end_time": "2020-11-21T14:07:05.527338",
     "exception": false,
     "start_time": "2020-11-21T14:07:05.448830",
     "status": "completed"
    },
    "tags": []
   },
   "source": [
    "## 4-8)AdaBoostClassifier"
   ]
  },
  {
   "cell_type": "code",
   "execution_count": 33,
   "metadata": {
    "execution": {
     "iopub.execute_input": "2020-11-21T14:07:05.700491Z",
     "iopub.status.busy": "2020-11-21T14:07:05.699670Z",
     "iopub.status.idle": "2020-11-21T14:07:27.141553Z",
     "shell.execute_reply": "2020-11-21T14:07:27.140890Z"
    },
    "papermill": {
     "duration": 21.53531,
     "end_time": "2020-11-21T14:07:27.141721",
     "exception": false,
     "start_time": "2020-11-21T14:07:05.606411",
     "status": "completed"
    },
    "tags": []
   },
   "outputs": [
    {
     "name": "stdout",
     "output_type": "stream",
     "text": [
      "Best Parameters:\n",
      "\n",
      "\tclf__n_estimators : 150\n",
      "\tscaler__with_mean : True\n",
      "\tscaler__with_std : True\n",
      "\n",
      "Best Score: 0.792645521087487\n",
      "Performance on the test data\n",
      "\n",
      "              precision    recall  f1-score   support\n",
      "\n",
      "           0       0.87      0.89      0.88        83\n",
      "           1       0.82      0.78      0.80        51\n",
      "\n",
      "    accuracy                           0.85       134\n",
      "   macro avg       0.84      0.84      0.84       134\n",
      "weighted avg       0.85      0.85      0.85       134\n",
      "\n"
     ]
    }
   ],
   "source": [
    "\n",
    "\n",
    "pipeline = Pipeline([('scaler', StandardScaler()),                 \n",
    "                     ('clf', AdaBoostClassifier())])\n",
    "\n",
    "params = {'scaler__with_mean':(True, False),\n",
    "          'scaler__with_std':(True, False),                      \n",
    "          'clf__n_estimators': (50,150,200)          \n",
    "          \n",
    "         }\n",
    "\n",
    "grid_search = GridSearchCV(pipeline, params, verbose=0)\n",
    "\n",
    "grid_search.fit(X_train, y_train)\n",
    "\n",
    "#Best score and parameters\n",
    "print(\"Best Parameters:\\n\")\n",
    "for k,v in grid_search.best_params_.items():\n",
    "    print(f\"\\t{k} : {v}\")\n",
    "print()\n",
    "print(f\"Best Score: {grid_search.best_score_}\")\n",
    "\n",
    "\n",
    "#Best estimator\n",
    "print(\"Performance on the test data\")\n",
    "bestEstimator = grid_search.best_estimator_\n",
    "\n",
    "bestEstimator.fit(X_train, y_train)\n",
    "pred = bestEstimator.predict(X_test)\n",
    "print()\n",
    "print(classification_report(y_test, pred))\n",
    "\n"
   ]
  },
  {
   "cell_type": "markdown",
   "metadata": {
    "papermill": {
     "duration": 0.080246,
     "end_time": "2020-11-21T14:07:27.302506",
     "exception": false,
     "start_time": "2020-11-21T14:07:27.222260",
     "status": "completed"
    },
    "tags": []
   },
   "source": [
    "## 4-9)GaussianProcessClassifier"
   ]
  },
  {
   "cell_type": "code",
   "execution_count": 34,
   "metadata": {
    "execution": {
     "iopub.execute_input": "2020-11-21T14:07:27.479541Z",
     "iopub.status.busy": "2020-11-21T14:07:27.475901Z",
     "iopub.status.idle": "2020-11-21T14:07:47.223105Z",
     "shell.execute_reply": "2020-11-21T14:07:47.222243Z"
    },
    "papermill": {
     "duration": 19.84059,
     "end_time": "2020-11-21T14:07:47.223269",
     "exception": false,
     "start_time": "2020-11-21T14:07:27.382679",
     "status": "completed"
    },
    "tags": []
   },
   "outputs": [
    {
     "name": "stdout",
     "output_type": "stream",
     "text": [
      "Best Parameters:\n",
      "\n",
      "\tclf__kernel : 1**2 * RBF(length_scale=1)\n",
      "\n",
      "Best Score: 0.7992506099686303\n",
      "Performance on the test data\n",
      "\n",
      "              precision    recall  f1-score   support\n",
      "\n",
      "           0       0.86      0.98      0.92        83\n",
      "           1       0.95      0.75      0.84        51\n",
      "\n",
      "    accuracy                           0.89       134\n",
      "   macro avg       0.91      0.86      0.88       134\n",
      "weighted avg       0.90      0.89      0.88       134\n",
      "\n"
     ]
    }
   ],
   "source": [
    "\n",
    "\n",
    "pipeline = Pipeline([('scaler', StandardScaler()),                 \n",
    "                     ('clf', GaussianProcessClassifier())])\n",
    "\n",
    "params = {#'scaler__with_mean':(True, False),\n",
    "          #'scaler__with_std':(True, False),\n",
    "          'clf__kernel':(1*RBF(1),1*Matern(1,1.5), 1*RBF(0.5))\n",
    "                   \n",
    "          \n",
    "         }\n",
    "\n",
    "grid_search = GridSearchCV(pipeline, params, verbose=0)\n",
    "\n",
    "grid_search.fit(X_train, y_train)\n",
    "\n",
    "#Best score and parameters\n",
    "print(\"Best Parameters:\\n\")\n",
    "for k,v in grid_search.best_params_.items():\n",
    "    print(f\"\\t{k} : {v}\")\n",
    "print()\n",
    "print(f\"Best Score: {grid_search.best_score_}\")\n",
    "\n",
    "\n",
    "#Best estimator\n",
    "print(\"Performance on the test data\")\n",
    "bestEstimator = grid_search.best_estimator_\n",
    "\n",
    "bestEstimator.fit(X_train, y_train)\n",
    "pred = bestEstimator.predict(X_test)\n",
    "print()\n",
    "print(classification_report(y_test, pred))\n",
    "\n",
    "\n"
   ]
  },
  {
   "cell_type": "markdown",
   "metadata": {
    "papermill": {
     "duration": 0.092097,
     "end_time": "2020-11-21T14:07:47.433727",
     "exception": false,
     "start_time": "2020-11-21T14:07:47.341630",
     "status": "completed"
    },
    "tags": []
   },
   "source": [
    "## 4-10)Voting Classifier"
   ]
  },
  {
   "cell_type": "markdown",
   "metadata": {
    "papermill": {
     "duration": 0.082552,
     "end_time": "2020-11-21T14:07:47.598976",
     "exception": false,
     "start_time": "2020-11-21T14:07:47.516424",
     "status": "completed"
    },
    "tags": []
   },
   "source": [
    "So far the best accuracy was obtained by the models Logistic Regression, KNeighborsClassifier, SVC, and GaussianProcessClassifier. Let's combine these different classifiers to use a majority vote to predict the class labels. This can be reached by VotingClassifier from sklearn.ensemble."
   ]
  },
  {
   "cell_type": "code",
   "execution_count": 35,
   "metadata": {
    "execution": {
     "iopub.execute_input": "2020-11-21T14:07:47.781016Z",
     "iopub.status.busy": "2020-11-21T14:07:47.777778Z",
     "iopub.status.idle": "2020-11-21T14:07:50.430851Z",
     "shell.execute_reply": "2020-11-21T14:07:50.431526Z"
    },
    "papermill": {
     "duration": 2.750995,
     "end_time": "2020-11-21T14:07:50.431761",
     "exception": false,
     "start_time": "2020-11-21T14:07:47.680766",
     "status": "completed"
    },
    "tags": []
   },
   "outputs": [
    {
     "name": "stdout",
     "output_type": "stream",
     "text": [
      "\n",
      "              precision    recall  f1-score   support\n",
      "\n",
      "           0       0.85      0.98      0.91        83\n",
      "           1       0.95      0.73      0.82        51\n",
      "\n",
      "    accuracy                           0.88       134\n",
      "   macro avg       0.90      0.85      0.87       134\n",
      "weighted avg       0.89      0.88      0.88       134\n",
      "\n"
     ]
    }
   ],
   "source": [
    "model1 = LogisticRegression(C=0.01)\n",
    "model2 = KNeighborsClassifier(n_neighbors=10, p=1, weights='uniform')\n",
    "model3 = SVC(C=1, kernel='rbf')\n",
    "model4 = GaussianProcessClassifier(kernel=1**2 * RBF(length_scale=1))\n",
    "# model5 = AdaBoostClassifier(n_estimators=150)\n",
    "\n",
    "classifiers=[('lr', model1), ('kn', model2), ('svc', model3), ('gp', model4)]\n",
    "\n",
    "#Ensemble classifier\n",
    "ensemble_clf = VotingClassifier(estimators=classifiers, voting='hard')\n",
    "\n",
    "ens_pipeline = Pipeline([('scaler', StandardScaler()),                 \n",
    "                     ('clf', ensemble_clf)])\n",
    "\n",
    "ens_pipeline.fit(X_train, y_train)\n",
    "pred = ens_pipeline.predict(X_test)\n",
    "print()\n",
    "print(classification_report(y_test, pred))\n",
    "\n"
   ]
  },
  {
   "cell_type": "markdown",
   "metadata": {
    "papermill": {
     "duration": 0.081632,
     "end_time": "2020-11-21T14:07:50.599574",
     "exception": false,
     "start_time": "2020-11-21T14:07:50.517942",
     "status": "completed"
    },
    "tags": []
   },
   "source": [
    "It seems that the ensemble model could not perform better than GaissianProccessClassifier. Therefore we continue with the latter to predict the class labels for the test set."
   ]
  },
  {
   "cell_type": "markdown",
   "metadata": {
    "papermill": {
     "duration": 0.082871,
     "end_time": "2020-11-21T14:07:50.765077",
     "exception": false,
     "start_time": "2020-11-21T14:07:50.682206",
     "status": "completed"
    },
    "tags": []
   },
   "source": [
    "# 5) Predicting the class labels for the test set"
   ]
  },
  {
   "cell_type": "markdown",
   "metadata": {
    "papermill": {
     "duration": 0.081289,
     "end_time": "2020-11-21T14:07:50.928684",
     "exception": false,
     "start_time": "2020-11-21T14:07:50.847395",
     "status": "completed"
    },
    "tags": []
   },
   "source": [
    "Now we train a GaussianProcess Classifier on the whole training data to predict the class labels for the test set."
   ]
  },
  {
   "cell_type": "code",
   "execution_count": 36,
   "metadata": {
    "execution": {
     "iopub.execute_input": "2020-11-21T14:07:51.105825Z",
     "iopub.status.busy": "2020-11-21T14:07:51.105035Z",
     "iopub.status.idle": "2020-11-21T14:07:51.119157Z",
     "shell.execute_reply": "2020-11-21T14:07:51.118474Z"
    },
    "papermill": {
     "duration": 0.106202,
     "end_time": "2020-11-21T14:07:51.119313",
     "exception": false,
     "start_time": "2020-11-21T14:07:51.013111",
     "status": "completed"
    },
    "tags": []
   },
   "outputs": [],
   "source": [
    "train = pd.read_csv(\"/kaggle/input/titanic/train.csv\")\n",
    "test = pd.read_csv(\"/kaggle/input/titanic/test.csv\")"
   ]
  },
  {
   "cell_type": "code",
   "execution_count": 37,
   "metadata": {
    "execution": {
     "iopub.execute_input": "2020-11-21T14:07:51.297357Z",
     "iopub.status.busy": "2020-11-21T14:07:51.294500Z",
     "iopub.status.idle": "2020-11-21T14:07:51.316341Z",
     "shell.execute_reply": "2020-11-21T14:07:51.315629Z"
    },
    "papermill": {
     "duration": 0.113178,
     "end_time": "2020-11-21T14:07:51.316474",
     "exception": false,
     "start_time": "2020-11-21T14:07:51.203296",
     "status": "completed"
    },
    "tags": []
   },
   "outputs": [
    {
     "data": {
      "text/html": [
       "<div>\n",
       "<style scoped>\n",
       "    .dataframe tbody tr th:only-of-type {\n",
       "        vertical-align: middle;\n",
       "    }\n",
       "\n",
       "    .dataframe tbody tr th {\n",
       "        vertical-align: top;\n",
       "    }\n",
       "\n",
       "    .dataframe thead th {\n",
       "        text-align: right;\n",
       "    }\n",
       "</style>\n",
       "<table border=\"1\" class=\"dataframe\">\n",
       "  <thead>\n",
       "    <tr style=\"text-align: right;\">\n",
       "      <th></th>\n",
       "      <th>PassengerId</th>\n",
       "      <th>Survived</th>\n",
       "      <th>Pclass</th>\n",
       "      <th>Age</th>\n",
       "      <th>SibSp</th>\n",
       "      <th>Parch</th>\n",
       "      <th>Fare</th>\n",
       "      <th>male</th>\n",
       "      <th>Q</th>\n",
       "      <th>S</th>\n",
       "    </tr>\n",
       "  </thead>\n",
       "  <tbody>\n",
       "    <tr>\n",
       "      <th>0</th>\n",
       "      <td>1</td>\n",
       "      <td>0</td>\n",
       "      <td>3</td>\n",
       "      <td>22.0</td>\n",
       "      <td>1</td>\n",
       "      <td>0</td>\n",
       "      <td>7.2500</td>\n",
       "      <td>1</td>\n",
       "      <td>0</td>\n",
       "      <td>1</td>\n",
       "    </tr>\n",
       "    <tr>\n",
       "      <th>1</th>\n",
       "      <td>2</td>\n",
       "      <td>1</td>\n",
       "      <td>1</td>\n",
       "      <td>38.0</td>\n",
       "      <td>1</td>\n",
       "      <td>0</td>\n",
       "      <td>71.2833</td>\n",
       "      <td>0</td>\n",
       "      <td>0</td>\n",
       "      <td>0</td>\n",
       "    </tr>\n",
       "    <tr>\n",
       "      <th>2</th>\n",
       "      <td>3</td>\n",
       "      <td>1</td>\n",
       "      <td>3</td>\n",
       "      <td>26.0</td>\n",
       "      <td>0</td>\n",
       "      <td>0</td>\n",
       "      <td>7.9250</td>\n",
       "      <td>0</td>\n",
       "      <td>0</td>\n",
       "      <td>1</td>\n",
       "    </tr>\n",
       "    <tr>\n",
       "      <th>3</th>\n",
       "      <td>4</td>\n",
       "      <td>1</td>\n",
       "      <td>1</td>\n",
       "      <td>35.0</td>\n",
       "      <td>1</td>\n",
       "      <td>0</td>\n",
       "      <td>53.1000</td>\n",
       "      <td>0</td>\n",
       "      <td>0</td>\n",
       "      <td>1</td>\n",
       "    </tr>\n",
       "    <tr>\n",
       "      <th>4</th>\n",
       "      <td>5</td>\n",
       "      <td>0</td>\n",
       "      <td>3</td>\n",
       "      <td>35.0</td>\n",
       "      <td>0</td>\n",
       "      <td>0</td>\n",
       "      <td>8.0500</td>\n",
       "      <td>1</td>\n",
       "      <td>0</td>\n",
       "      <td>1</td>\n",
       "    </tr>\n",
       "  </tbody>\n",
       "</table>\n",
       "</div>"
      ],
      "text/plain": [
       "   PassengerId  Survived  Pclass   Age  SibSp  Parch     Fare  male  Q  S\n",
       "0            1         0       3  22.0      1      0   7.2500     1  0  1\n",
       "1            2         1       1  38.0      1      0  71.2833     0  0  0\n",
       "2            3         1       3  26.0      0      0   7.9250     0  0  1\n",
       "3            4         1       1  35.0      1      0  53.1000     0  0  1\n",
       "4            5         0       3  35.0      0      0   8.0500     1  0  1"
      ]
     },
     "execution_count": 37,
     "metadata": {},
     "output_type": "execute_result"
    }
   ],
   "source": [
    "#Using our preprocess pipeline to obtain the prepared data\n",
    "trainData = prep_pipeline.fit_transform(train)\n",
    "trainData.head()"
   ]
  },
  {
   "cell_type": "code",
   "execution_count": 38,
   "metadata": {
    "execution": {
     "iopub.execute_input": "2020-11-21T14:07:51.496964Z",
     "iopub.status.busy": "2020-11-21T14:07:51.496111Z",
     "iopub.status.idle": "2020-11-21T14:07:51.499480Z",
     "shell.execute_reply": "2020-11-21T14:07:51.498694Z"
    },
    "papermill": {
     "duration": 0.09922,
     "end_time": "2020-11-21T14:07:51.499633",
     "exception": false,
     "start_time": "2020-11-21T14:07:51.400413",
     "status": "completed"
    },
    "tags": []
   },
   "outputs": [],
   "source": [
    "#Prepared the test data\n",
    "testData = prep_pipeline.transform(test)"
   ]
  },
  {
   "cell_type": "code",
   "execution_count": 39,
   "metadata": {
    "execution": {
     "iopub.execute_input": "2020-11-21T14:07:51.680015Z",
     "iopub.status.busy": "2020-11-21T14:07:51.679088Z",
     "iopub.status.idle": "2020-11-21T14:07:51.683884Z",
     "shell.execute_reply": "2020-11-21T14:07:51.684513Z"
    },
    "papermill": {
     "duration": 0.101449,
     "end_time": "2020-11-21T14:07:51.684687",
     "exception": false,
     "start_time": "2020-11-21T14:07:51.583238",
     "status": "completed"
    },
    "tags": []
   },
   "outputs": [
    {
     "data": {
      "text/html": [
       "<div>\n",
       "<style scoped>\n",
       "    .dataframe tbody tr th:only-of-type {\n",
       "        vertical-align: middle;\n",
       "    }\n",
       "\n",
       "    .dataframe tbody tr th {\n",
       "        vertical-align: top;\n",
       "    }\n",
       "\n",
       "    .dataframe thead th {\n",
       "        text-align: right;\n",
       "    }\n",
       "</style>\n",
       "<table border=\"1\" class=\"dataframe\">\n",
       "  <thead>\n",
       "    <tr style=\"text-align: right;\">\n",
       "      <th></th>\n",
       "      <th>PassengerId</th>\n",
       "      <th>Pclass</th>\n",
       "      <th>Age</th>\n",
       "      <th>SibSp</th>\n",
       "      <th>Parch</th>\n",
       "      <th>Fare</th>\n",
       "      <th>male</th>\n",
       "      <th>Q</th>\n",
       "      <th>S</th>\n",
       "    </tr>\n",
       "  </thead>\n",
       "  <tbody>\n",
       "    <tr>\n",
       "      <th>0</th>\n",
       "      <td>892</td>\n",
       "      <td>3</td>\n",
       "      <td>34.5</td>\n",
       "      <td>0</td>\n",
       "      <td>0</td>\n",
       "      <td>7.8292</td>\n",
       "      <td>1</td>\n",
       "      <td>1</td>\n",
       "      <td>0</td>\n",
       "    </tr>\n",
       "    <tr>\n",
       "      <th>1</th>\n",
       "      <td>893</td>\n",
       "      <td>3</td>\n",
       "      <td>47.0</td>\n",
       "      <td>1</td>\n",
       "      <td>0</td>\n",
       "      <td>7.0000</td>\n",
       "      <td>0</td>\n",
       "      <td>0</td>\n",
       "      <td>1</td>\n",
       "    </tr>\n",
       "    <tr>\n",
       "      <th>2</th>\n",
       "      <td>894</td>\n",
       "      <td>2</td>\n",
       "      <td>62.0</td>\n",
       "      <td>0</td>\n",
       "      <td>0</td>\n",
       "      <td>9.6875</td>\n",
       "      <td>1</td>\n",
       "      <td>1</td>\n",
       "      <td>0</td>\n",
       "    </tr>\n",
       "    <tr>\n",
       "      <th>3</th>\n",
       "      <td>895</td>\n",
       "      <td>3</td>\n",
       "      <td>27.0</td>\n",
       "      <td>0</td>\n",
       "      <td>0</td>\n",
       "      <td>8.6625</td>\n",
       "      <td>1</td>\n",
       "      <td>0</td>\n",
       "      <td>1</td>\n",
       "    </tr>\n",
       "    <tr>\n",
       "      <th>4</th>\n",
       "      <td>896</td>\n",
       "      <td>3</td>\n",
       "      <td>22.0</td>\n",
       "      <td>1</td>\n",
       "      <td>1</td>\n",
       "      <td>12.2875</td>\n",
       "      <td>0</td>\n",
       "      <td>0</td>\n",
       "      <td>1</td>\n",
       "    </tr>\n",
       "  </tbody>\n",
       "</table>\n",
       "</div>"
      ],
      "text/plain": [
       "   PassengerId  Pclass   Age  SibSp  Parch     Fare  male  Q  S\n",
       "0          892       3  34.5      0      0   7.8292     1  1  0\n",
       "1          893       3  47.0      1      0   7.0000     0  0  1\n",
       "2          894       2  62.0      0      0   9.6875     1  1  0\n",
       "3          895       3  27.0      0      0   8.6625     1  0  1\n",
       "4          896       3  22.0      1      1  12.2875     0  0  1"
      ]
     },
     "execution_count": 39,
     "metadata": {},
     "output_type": "execute_result"
    }
   ],
   "source": [
    "testData.head()"
   ]
  },
  {
   "cell_type": "code",
   "execution_count": 40,
   "metadata": {
    "execution": {
     "iopub.execute_input": "2020-11-21T14:07:51.859759Z",
     "iopub.status.busy": "2020-11-21T14:07:51.858883Z",
     "iopub.status.idle": "2020-11-21T14:07:51.868229Z",
     "shell.execute_reply": "2020-11-21T14:07:51.867403Z"
    },
    "papermill": {
     "duration": 0.099972,
     "end_time": "2020-11-21T14:07:51.868410",
     "exception": false,
     "start_time": "2020-11-21T14:07:51.768438",
     "status": "completed"
    },
    "tags": []
   },
   "outputs": [
    {
     "name": "stdout",
     "output_type": "stream",
     "text": [
      "shape: (418, 9)\n",
      "*****************************\n",
      "data types:\n",
      "\n",
      "PassengerId      int64\n",
      "Pclass           int64\n",
      "Age            float64\n",
      "SibSp            int64\n",
      "Parch            int64\n",
      "Fare           float64\n",
      "male             uint8\n",
      "Q                uint8\n",
      "S                uint8\n",
      "dtype: object\n",
      "*****************************\n",
      "Total missed values: 1\n",
      "*****************************\n",
      "Missed values in each column:\n",
      "\n",
      "PassengerId    0\n",
      "Pclass         0\n",
      "Age            0\n",
      "SibSp          0\n",
      "Parch          0\n",
      "Fare           1\n",
      "male           0\n",
      "Q              0\n",
      "S              0\n",
      "dtype: int64\n"
     ]
    }
   ],
   "source": [
    "dataInfo(testData)"
   ]
  },
  {
   "cell_type": "markdown",
   "metadata": {
    "papermill": {
     "duration": 0.089084,
     "end_time": "2020-11-21T14:07:52.044496",
     "exception": false,
     "start_time": "2020-11-21T14:07:51.955412",
     "status": "completed"
    },
    "tags": []
   },
   "source": [
    "As we can see there exist a missing value in the testData which belongs to Fare. We simply impute it using the median of the Fare values."
   ]
  },
  {
   "cell_type": "code",
   "execution_count": 41,
   "metadata": {
    "execution": {
     "iopub.execute_input": "2020-11-21T14:07:52.226800Z",
     "iopub.status.busy": "2020-11-21T14:07:52.225707Z",
     "iopub.status.idle": "2020-11-21T14:07:52.231140Z",
     "shell.execute_reply": "2020-11-21T14:07:52.230378Z"
    },
    "papermill": {
     "duration": 0.099826,
     "end_time": "2020-11-21T14:07:52.231265",
     "exception": false,
     "start_time": "2020-11-21T14:07:52.131439",
     "status": "completed"
    },
    "tags": []
   },
   "outputs": [
    {
     "data": {
      "text/plain": [
       "PassengerId    0\n",
       "Pclass         0\n",
       "Age            0\n",
       "SibSp          0\n",
       "Parch          0\n",
       "Fare           0\n",
       "male           0\n",
       "Q              0\n",
       "S              0\n",
       "dtype: int64"
      ]
     },
     "execution_count": 41,
     "metadata": {},
     "output_type": "execute_result"
    }
   ],
   "source": [
    "testData['Fare'].fillna(testData['Fare'].median(), inplace=True)\n",
    "\n",
    "np.sum(testData.isna())"
   ]
  },
  {
   "cell_type": "code",
   "execution_count": 42,
   "metadata": {
    "execution": {
     "iopub.execute_input": "2020-11-21T14:07:52.414516Z",
     "iopub.status.busy": "2020-11-21T14:07:52.413146Z",
     "iopub.status.idle": "2020-11-21T14:07:52.422466Z",
     "shell.execute_reply": "2020-11-21T14:07:52.421755Z"
    },
    "papermill": {
     "duration": 0.10361,
     "end_time": "2020-11-21T14:07:52.422641",
     "exception": false,
     "start_time": "2020-11-21T14:07:52.319031",
     "status": "completed"
    },
    "tags": []
   },
   "outputs": [],
   "source": [
    "X_train, y_train = trainData[['Pclass', 'Age', 'SibSp', 'Parch','Fare', 'male', 'Q', 'S']], trainData[['Survived']]\n",
    "X_test = testData[['Pclass', 'Age', 'SibSp', 'Parch','Fare', 'male', 'Q', 'S']]"
   ]
  },
  {
   "cell_type": "code",
   "execution_count": 43,
   "metadata": {
    "execution": {
     "iopub.execute_input": "2020-11-21T14:07:52.610309Z",
     "iopub.status.busy": "2020-11-21T14:07:52.606979Z",
     "iopub.status.idle": "2020-11-21T14:08:53.926491Z",
     "shell.execute_reply": "2020-11-21T14:08:53.925320Z"
    },
    "papermill": {
     "duration": 61.41665,
     "end_time": "2020-11-21T14:08:53.926733",
     "exception": false,
     "start_time": "2020-11-21T14:07:52.510083",
     "status": "completed"
    },
    "tags": []
   },
   "outputs": [
    {
     "name": "stdout",
     "output_type": "stream",
     "text": [
      "Best Parameters:\n",
      "\n",
      "\tclf__kernel : 1**2 * RBF(length_scale=1)\n",
      "\n",
      "Best Score: 0.835043695380774\n",
      "Prediction:\n",
      "\n",
      "[0 0 0 0 0 0 1 0 1 0 0 0 1 0 1 1 0 0 0 0 0 0 1 1 1 0 1 0 0 0 0 0 0 0 1 0 0\n",
      " 1 0 0 0 0 0 1 1 0 0 0 1 0 0 0 1 1 0 0 0 0 0 1 0 0 0 1 0 1 1 0 0 1 1 0 0 0\n",
      " 1 0 0 1 0 1 1 1 0 0 0 0 1 1 1 1 0 0 1 0 1 0 1 0 1 0 1 0 0 0 1 0 0 0 0 0 0\n",
      " 1 1 1 1 0 0 1 0 1 1 0 1 0 0 1 0 1 0 0 0 0 0 0 0 0 0 0 1 0 0 1 0 0 0 0 0 0\n",
      " 1 0 1 0 0 0 0 0 1 1 0 1 1 1 1 0 0 0 0 0 1 1 0 0 0 0 0 1 1 0 1 1 0 0 1 0 1\n",
      " 0 1 0 0 0 0 0 0 0 1 0 1 1 0 0 1 1 0 1 0 1 1 0 1 0 0 0 0 1 0 0 1 0 1 0 1 0\n",
      " 1 0 1 1 0 1 0 0 0 1 0 0 0 0 0 0 1 1 1 1 0 0 0 0 1 0 1 1 1 0 0 0 0 0 0 0 1\n",
      " 0 0 0 1 1 0 0 0 0 1 0 0 0 1 1 0 1 0 0 0 0 1 1 1 1 1 0 0 0 0 0 0 1 0 0 0 0\n",
      " 1 0 0 0 0 0 0 0 1 1 0 1 0 0 0 0 0 1 1 1 0 0 0 0 0 0 0 0 1 0 1 0 0 0 1 0 0\n",
      " 1 0 0 0 0 0 0 0 0 0 1 0 1 0 1 0 1 1 0 0 0 1 0 1 0 0 0 0 1 1 0 1 0 0 1 1 0\n",
      " 0 1 0 0 1 1 0 0 0 0 0 0 1 0 0 1 0 0 0 0 0 1 1 0 0 1 0 1 0 0 1 0 1 1 0 0 0\n",
      " 0 1 1 1 1 0 0 1 0 0 0]\n"
     ]
    }
   ],
   "source": [
    "#Training the ensemble classifier on the trainData\n",
    "pipeline = Pipeline([('scaler', StandardScaler()),                 \n",
    "                     ('clf', GaussianProcessClassifier())])\n",
    "\n",
    "params = {'clf__kernel':(1*RBF(1),1*Matern(1,1.5), 1*RBF(0.5))}  \n",
    "          \n",
    "grid_search = GridSearchCV(pipeline, params, cv=10)\n",
    "\n",
    "grid_search.fit(X_train, y_train)\n",
    "\n",
    "#Best score and parameters\n",
    "print(\"Best Parameters:\\n\")\n",
    "for k,v in grid_search.best_params_.items():\n",
    "    print(f\"\\t{k} : {v}\")\n",
    "print()\n",
    "print(f\"Best Score: {grid_search.best_score_}\")\n",
    "\n",
    "\n",
    "#Best estimator\n",
    "bestEstimator = grid_search.best_estimator_\n",
    "\n",
    "bestEstimator.fit(X_train, y_train)\n",
    "pred = bestEstimator.predict(X_test)\n",
    "\n",
    "print(\"Prediction:\\n\")\n",
    "print(pred)"
   ]
  },
  {
   "cell_type": "code",
   "execution_count": 44,
   "metadata": {
    "execution": {
     "iopub.execute_input": "2020-11-21T14:08:54.116140Z",
     "iopub.status.busy": "2020-11-21T14:08:54.115252Z",
     "iopub.status.idle": "2020-11-21T14:08:54.119010Z",
     "shell.execute_reply": "2020-11-21T14:08:54.118344Z"
    },
    "papermill": {
     "duration": 0.101648,
     "end_time": "2020-11-21T14:08:54.119137",
     "exception": false,
     "start_time": "2020-11-21T14:08:54.017489",
     "status": "completed"
    },
    "tags": []
   },
   "outputs": [],
   "source": [
    "testPrediction = pd.DataFrame({'PassengerId':testData['PassengerId'], 'Survived':pd.Series(pred)})"
   ]
  },
  {
   "cell_type": "code",
   "execution_count": 45,
   "metadata": {
    "execution": {
     "iopub.execute_input": "2020-11-21T14:08:54.308644Z",
     "iopub.status.busy": "2020-11-21T14:08:54.307293Z",
     "iopub.status.idle": "2020-11-21T14:08:54.313187Z",
     "shell.execute_reply": "2020-11-21T14:08:54.312404Z"
    },
    "papermill": {
     "duration": 0.106394,
     "end_time": "2020-11-21T14:08:54.313360",
     "exception": false,
     "start_time": "2020-11-21T14:08:54.206966",
     "status": "completed"
    },
    "tags": []
   },
   "outputs": [
    {
     "data": {
      "text/html": [
       "<div>\n",
       "<style scoped>\n",
       "    .dataframe tbody tr th:only-of-type {\n",
       "        vertical-align: middle;\n",
       "    }\n",
       "\n",
       "    .dataframe tbody tr th {\n",
       "        vertical-align: top;\n",
       "    }\n",
       "\n",
       "    .dataframe thead th {\n",
       "        text-align: right;\n",
       "    }\n",
       "</style>\n",
       "<table border=\"1\" class=\"dataframe\">\n",
       "  <thead>\n",
       "    <tr style=\"text-align: right;\">\n",
       "      <th></th>\n",
       "      <th>PassengerId</th>\n",
       "      <th>Survived</th>\n",
       "    </tr>\n",
       "  </thead>\n",
       "  <tbody>\n",
       "    <tr>\n",
       "      <th>0</th>\n",
       "      <td>892</td>\n",
       "      <td>0</td>\n",
       "    </tr>\n",
       "    <tr>\n",
       "      <th>1</th>\n",
       "      <td>893</td>\n",
       "      <td>0</td>\n",
       "    </tr>\n",
       "    <tr>\n",
       "      <th>2</th>\n",
       "      <td>894</td>\n",
       "      <td>0</td>\n",
       "    </tr>\n",
       "    <tr>\n",
       "      <th>3</th>\n",
       "      <td>895</td>\n",
       "      <td>0</td>\n",
       "    </tr>\n",
       "    <tr>\n",
       "      <th>4</th>\n",
       "      <td>896</td>\n",
       "      <td>0</td>\n",
       "    </tr>\n",
       "    <tr>\n",
       "      <th>5</th>\n",
       "      <td>897</td>\n",
       "      <td>0</td>\n",
       "    </tr>\n",
       "    <tr>\n",
       "      <th>6</th>\n",
       "      <td>898</td>\n",
       "      <td>1</td>\n",
       "    </tr>\n",
       "    <tr>\n",
       "      <th>7</th>\n",
       "      <td>899</td>\n",
       "      <td>0</td>\n",
       "    </tr>\n",
       "    <tr>\n",
       "      <th>8</th>\n",
       "      <td>900</td>\n",
       "      <td>1</td>\n",
       "    </tr>\n",
       "    <tr>\n",
       "      <th>9</th>\n",
       "      <td>901</td>\n",
       "      <td>0</td>\n",
       "    </tr>\n",
       "  </tbody>\n",
       "</table>\n",
       "</div>"
      ],
      "text/plain": [
       "   PassengerId  Survived\n",
       "0          892         0\n",
       "1          893         0\n",
       "2          894         0\n",
       "3          895         0\n",
       "4          896         0\n",
       "5          897         0\n",
       "6          898         1\n",
       "7          899         0\n",
       "8          900         1\n",
       "9          901         0"
      ]
     },
     "execution_count": 45,
     "metadata": {},
     "output_type": "execute_result"
    }
   ],
   "source": [
    "testPrediction.head(10)"
   ]
  },
  {
   "cell_type": "code",
   "execution_count": 46,
   "metadata": {
    "execution": {
     "iopub.execute_input": "2020-11-21T14:08:54.495970Z",
     "iopub.status.busy": "2020-11-21T14:08:54.495173Z",
     "iopub.status.idle": "2020-11-21T14:08:54.926007Z",
     "shell.execute_reply": "2020-11-21T14:08:54.925197Z"
    },
    "papermill": {
     "duration": 0.525656,
     "end_time": "2020-11-21T14:08:54.926141",
     "exception": false,
     "start_time": "2020-11-21T14:08:54.400485",
     "status": "completed"
    },
    "tags": []
   },
   "outputs": [
    {
     "name": "stdout",
     "output_type": "stream",
     "text": [
      "Successfully\n"
     ]
    }
   ],
   "source": [
    "testPrediction.to_csv('Finalsubmit.csv', index=False)\n",
    "print(\"Successfully\")"
   ]
  }
 ],
 "metadata": {
  "kernelspec": {
   "display_name": "Python 3",
   "language": "python",
   "name": "python3"
  },
  "language_info": {
   "codemirror_mode": {
    "name": "ipython",
    "version": 3
   },
   "file_extension": ".py",
   "mimetype": "text/x-python",
   "name": "python",
   "nbconvert_exporter": "python",
   "pygments_lexer": "ipython3",
   "version": "3.7.6"
  },
  "papermill": {
   "duration": 504.43971,
   "end_time": "2020-11-21T14:08:55.127653",
   "environment_variables": {},
   "exception": null,
   "input_path": "__notebook__.ipynb",
   "output_path": "__notebook__.ipynb",
   "parameters": {},
   "start_time": "2020-11-21T14:00:30.687943",
   "version": "2.1.0"
  }
 },
 "nbformat": 4,
 "nbformat_minor": 4
}
