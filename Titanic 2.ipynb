{
 "cells": [
  {
   "cell_type": "code",
   "execution_count": 1,
   "metadata": {},
   "outputs": [],
   "source": [
    "#Importing the packages implemented in this notebook.\n",
    "import numpy as np\n",
    "import pandas as pd\n",
    "import matplotlib.pyplot as plt\n",
    "import seaborn as sns\n",
    "\n",
    "from sklearn.preprocessing import FunctionTransformer, StandardScaler\n",
    "from sklearn.model_selection import train_test_split, GridSearchCV\n",
    "from sklearn.pipeline import Pipeline\n",
    "from sklearn.metrics import classification_report\n",
    "\n",
    "from sklearn.naive_bayes import GaussianNB\n",
    "from sklearn.linear_model import LogisticRegression\n",
    "from sklearn.neighbors import KNeighborsClassifier\n",
    "from sklearn.svm import SVC\n",
    "from sklearn.ensemble import GradientBoostingClassifier,RandomForestClassifier,AdaBoostClassifier,VotingClassifier\n",
    "from sklearn.tree import DecisionTreeClassifier\n",
    "from sklearn.gaussian_process import GaussianProcessClassifier\n",
    "from sklearn.gaussian_process.kernels import RBF, Matern\n",
    "from xgboost import XGBClassifier\n",
    "\n",
    "import warnings\n",
    "warnings.filterwarnings('ignore')"
   ]
  },
  {
   "cell_type": "markdown",
   "metadata": {},
   "source": [
    "# 1)Data Import"
   ]
  },
  {
   "cell_type": "code",
   "execution_count": 2,
   "metadata": {},
   "outputs": [],
   "source": [
    "train = pd.read_csv(\"train.csv\")\n",
    "test = pd.read_csv(\"test.csv\")"
   ]
  },
  {
   "cell_type": "code",
   "execution_count": 3,
   "metadata": {},
   "outputs": [
    {
     "data": {
      "text/html": [
       "<div>\n",
       "<style scoped>\n",
       "    .dataframe tbody tr th:only-of-type {\n",
       "        vertical-align: middle;\n",
       "    }\n",
       "\n",
       "    .dataframe tbody tr th {\n",
       "        vertical-align: top;\n",
       "    }\n",
       "\n",
       "    .dataframe thead th {\n",
       "        text-align: right;\n",
       "    }\n",
       "</style>\n",
       "<table border=\"1\" class=\"dataframe\">\n",
       "  <thead>\n",
       "    <tr style=\"text-align: right;\">\n",
       "      <th></th>\n",
       "      <th>PassengerId</th>\n",
       "      <th>Survived</th>\n",
       "      <th>Pclass</th>\n",
       "      <th>Name</th>\n",
       "      <th>Sex</th>\n",
       "      <th>Age</th>\n",
       "      <th>SibSp</th>\n",
       "      <th>Parch</th>\n",
       "      <th>Ticket</th>\n",
       "      <th>Fare</th>\n",
       "      <th>Cabin</th>\n",
       "      <th>Embarked</th>\n",
       "    </tr>\n",
       "  </thead>\n",
       "  <tbody>\n",
       "    <tr>\n",
       "      <th>0</th>\n",
       "      <td>1</td>\n",
       "      <td>0</td>\n",
       "      <td>3</td>\n",
       "      <td>Braund, Mr. Owen Harris</td>\n",
       "      <td>male</td>\n",
       "      <td>22.0</td>\n",
       "      <td>1</td>\n",
       "      <td>0</td>\n",
       "      <td>A/5 21171</td>\n",
       "      <td>7.2500</td>\n",
       "      <td>NaN</td>\n",
       "      <td>S</td>\n",
       "    </tr>\n",
       "    <tr>\n",
       "      <th>1</th>\n",
       "      <td>2</td>\n",
       "      <td>1</td>\n",
       "      <td>1</td>\n",
       "      <td>Cumings, Mrs. John Bradley (Florence Briggs Th...</td>\n",
       "      <td>female</td>\n",
       "      <td>38.0</td>\n",
       "      <td>1</td>\n",
       "      <td>0</td>\n",
       "      <td>PC 17599</td>\n",
       "      <td>71.2833</td>\n",
       "      <td>C85</td>\n",
       "      <td>C</td>\n",
       "    </tr>\n",
       "    <tr>\n",
       "      <th>2</th>\n",
       "      <td>3</td>\n",
       "      <td>1</td>\n",
       "      <td>3</td>\n",
       "      <td>Heikkinen, Miss. Laina</td>\n",
       "      <td>female</td>\n",
       "      <td>26.0</td>\n",
       "      <td>0</td>\n",
       "      <td>0</td>\n",
       "      <td>STON/O2. 3101282</td>\n",
       "      <td>7.9250</td>\n",
       "      <td>NaN</td>\n",
       "      <td>S</td>\n",
       "    </tr>\n",
       "    <tr>\n",
       "      <th>3</th>\n",
       "      <td>4</td>\n",
       "      <td>1</td>\n",
       "      <td>1</td>\n",
       "      <td>Futrelle, Mrs. Jacques Heath (Lily May Peel)</td>\n",
       "      <td>female</td>\n",
       "      <td>35.0</td>\n",
       "      <td>1</td>\n",
       "      <td>0</td>\n",
       "      <td>113803</td>\n",
       "      <td>53.1000</td>\n",
       "      <td>C123</td>\n",
       "      <td>S</td>\n",
       "    </tr>\n",
       "    <tr>\n",
       "      <th>4</th>\n",
       "      <td>5</td>\n",
       "      <td>0</td>\n",
       "      <td>3</td>\n",
       "      <td>Allen, Mr. William Henry</td>\n",
       "      <td>male</td>\n",
       "      <td>35.0</td>\n",
       "      <td>0</td>\n",
       "      <td>0</td>\n",
       "      <td>373450</td>\n",
       "      <td>8.0500</td>\n",
       "      <td>NaN</td>\n",
       "      <td>S</td>\n",
       "    </tr>\n",
       "    <tr>\n",
       "      <th>5</th>\n",
       "      <td>6</td>\n",
       "      <td>0</td>\n",
       "      <td>3</td>\n",
       "      <td>Moran, Mr. James</td>\n",
       "      <td>male</td>\n",
       "      <td>NaN</td>\n",
       "      <td>0</td>\n",
       "      <td>0</td>\n",
       "      <td>330877</td>\n",
       "      <td>8.4583</td>\n",
       "      <td>NaN</td>\n",
       "      <td>Q</td>\n",
       "    </tr>\n",
       "    <tr>\n",
       "      <th>6</th>\n",
       "      <td>7</td>\n",
       "      <td>0</td>\n",
       "      <td>1</td>\n",
       "      <td>McCarthy, Mr. Timothy J</td>\n",
       "      <td>male</td>\n",
       "      <td>54.0</td>\n",
       "      <td>0</td>\n",
       "      <td>0</td>\n",
       "      <td>17463</td>\n",
       "      <td>51.8625</td>\n",
       "      <td>E46</td>\n",
       "      <td>S</td>\n",
       "    </tr>\n",
       "    <tr>\n",
       "      <th>7</th>\n",
       "      <td>8</td>\n",
       "      <td>0</td>\n",
       "      <td>3</td>\n",
       "      <td>Palsson, Master. Gosta Leonard</td>\n",
       "      <td>male</td>\n",
       "      <td>2.0</td>\n",
       "      <td>3</td>\n",
       "      <td>1</td>\n",
       "      <td>349909</td>\n",
       "      <td>21.0750</td>\n",
       "      <td>NaN</td>\n",
       "      <td>S</td>\n",
       "    </tr>\n",
       "    <tr>\n",
       "      <th>8</th>\n",
       "      <td>9</td>\n",
       "      <td>1</td>\n",
       "      <td>3</td>\n",
       "      <td>Johnson, Mrs. Oscar W (Elisabeth Vilhelmina Berg)</td>\n",
       "      <td>female</td>\n",
       "      <td>27.0</td>\n",
       "      <td>0</td>\n",
       "      <td>2</td>\n",
       "      <td>347742</td>\n",
       "      <td>11.1333</td>\n",
       "      <td>NaN</td>\n",
       "      <td>S</td>\n",
       "    </tr>\n",
       "    <tr>\n",
       "      <th>9</th>\n",
       "      <td>10</td>\n",
       "      <td>1</td>\n",
       "      <td>2</td>\n",
       "      <td>Nasser, Mrs. Nicholas (Adele Achem)</td>\n",
       "      <td>female</td>\n",
       "      <td>14.0</td>\n",
       "      <td>1</td>\n",
       "      <td>0</td>\n",
       "      <td>237736</td>\n",
       "      <td>30.0708</td>\n",
       "      <td>NaN</td>\n",
       "      <td>C</td>\n",
       "    </tr>\n",
       "  </tbody>\n",
       "</table>\n",
       "</div>"
      ],
      "text/plain": [
       "   PassengerId  Survived  Pclass  \\\n",
       "0            1         0       3   \n",
       "1            2         1       1   \n",
       "2            3         1       3   \n",
       "3            4         1       1   \n",
       "4            5         0       3   \n",
       "5            6         0       3   \n",
       "6            7         0       1   \n",
       "7            8         0       3   \n",
       "8            9         1       3   \n",
       "9           10         1       2   \n",
       "\n",
       "                                                Name     Sex   Age  SibSp  \\\n",
       "0                            Braund, Mr. Owen Harris    male  22.0      1   \n",
       "1  Cumings, Mrs. John Bradley (Florence Briggs Th...  female  38.0      1   \n",
       "2                             Heikkinen, Miss. Laina  female  26.0      0   \n",
       "3       Futrelle, Mrs. Jacques Heath (Lily May Peel)  female  35.0      1   \n",
       "4                           Allen, Mr. William Henry    male  35.0      0   \n",
       "5                                   Moran, Mr. James    male   NaN      0   \n",
       "6                            McCarthy, Mr. Timothy J    male  54.0      0   \n",
       "7                     Palsson, Master. Gosta Leonard    male   2.0      3   \n",
       "8  Johnson, Mrs. Oscar W (Elisabeth Vilhelmina Berg)  female  27.0      0   \n",
       "9                Nasser, Mrs. Nicholas (Adele Achem)  female  14.0      1   \n",
       "\n",
       "   Parch            Ticket     Fare Cabin Embarked  \n",
       "0      0         A/5 21171   7.2500   NaN        S  \n",
       "1      0          PC 17599  71.2833   C85        C  \n",
       "2      0  STON/O2. 3101282   7.9250   NaN        S  \n",
       "3      0            113803  53.1000  C123        S  \n",
       "4      0            373450   8.0500   NaN        S  \n",
       "5      0            330877   8.4583   NaN        Q  \n",
       "6      0             17463  51.8625   E46        S  \n",
       "7      1            349909  21.0750   NaN        S  \n",
       "8      2            347742  11.1333   NaN        S  \n",
       "9      0            237736  30.0708   NaN        C  "
      ]
     },
     "execution_count": 3,
     "metadata": {},
     "output_type": "execute_result"
    }
   ],
   "source": [
    "train.head(10)"
   ]
  },
  {
   "cell_type": "code",
   "execution_count": 4,
   "metadata": {},
   "outputs": [],
   "source": [
    "def dataInfo(dataset):\n",
    "    '''A function to summarize a dataset properties.'''\n",
    "    \n",
    "    print(f'shape: {dataset.shape}')\n",
    "    print('*****************************')\n",
    "    print(f'data types:\\n')\n",
    "    print(f\"{dataset.dtypes}\")\n",
    "    print('*****************************')\n",
    "    print(f'Total missed values: {dataset.isnull().sum().sum()}')    \n",
    "    print('*****************************')\n",
    "    print(f'Missed values in each column:\\n')\n",
    "    print(f\"{dataset.isnull().sum()}\")"
   ]
  },
  {
   "cell_type": "markdown",
   "metadata": {},
   "source": [
    "## 1-1)Train set"
   ]
  },
  {
   "cell_type": "code",
   "execution_count": 5,
   "metadata": {},
   "outputs": [
    {
     "name": "stdout",
     "output_type": "stream",
     "text": [
      "shape: (891, 12)\n",
      "*****************************\n",
      "data types:\n",
      "\n",
      "PassengerId      int64\n",
      "Survived         int64\n",
      "Pclass           int64\n",
      "Name            object\n",
      "Sex             object\n",
      "Age            float64\n",
      "SibSp            int64\n",
      "Parch            int64\n",
      "Ticket          object\n",
      "Fare           float64\n",
      "Cabin           object\n",
      "Embarked        object\n",
      "dtype: object\n",
      "*****************************\n",
      "Total missed values: 866\n",
      "*****************************\n",
      "Missed values in each column:\n",
      "\n",
      "PassengerId      0\n",
      "Survived         0\n",
      "Pclass           0\n",
      "Name             0\n",
      "Sex              0\n",
      "Age            177\n",
      "SibSp            0\n",
      "Parch            0\n",
      "Ticket           0\n",
      "Fare             0\n",
      "Cabin          687\n",
      "Embarked         2\n",
      "dtype: int64\n"
     ]
    }
   ],
   "source": [
    "dataInfo(train)"
   ]
  },
  {
   "cell_type": "markdown",
   "metadata": {},
   "source": [
    "# 2) Data Exploratory Analysis"
   ]
  },
  {
   "cell_type": "markdown",
   "metadata": {},
   "source": [
    "## 2-1)Missing Values"
   ]
  },
  {
   "cell_type": "code",
   "execution_count": 6,
   "metadata": {},
   "outputs": [],
   "source": [
    "def nullFraction(col,df=\"train\"):\n",
    "    '''This function prints the null fraction of a column.'''\n",
    "    print(\"Null vlaue fraction of the {} feature in the {} set: {:.2f}\".format(col,df, np.mean(train[col].isna())))\n",
    "    "
   ]
  },
  {
   "cell_type": "markdown",
   "metadata": {},
   "source": [
    "The first issue that the dataInfo output attracts our attention is the null values includig in the \"Cabin\" feature. Almost 80 percent of the data of this feature is not known."
   ]
  },
  {
   "cell_type": "code",
   "execution_count": 7,
   "metadata": {},
   "outputs": [
    {
     "name": "stdout",
     "output_type": "stream",
     "text": [
      "Null vlaue fraction of the Cabin feature in the train set: 0.77\n",
      "Null vlaue fraction of the Cabin feature in the test set: 0.77\n"
     ]
    }
   ],
   "source": [
    "nullFraction(\"Cabin\")\n",
    "nullFraction(\"Cabin\", \"test\")"
   ]
  },
  {
   "cell_type": "markdown",
   "metadata": {},
   "source": [
    "This statistic for the \"Age\" is about 20 percent."
   ]
  },
  {
   "cell_type": "code",
   "execution_count": 8,
   "metadata": {},
   "outputs": [
    {
     "name": "stdout",
     "output_type": "stream",
     "text": [
      "Null vlaue fraction of the Age feature in the train set: 0.20\n",
      "Null vlaue fraction of the Age feature in the test set: 0.20\n"
     ]
    }
   ],
   "source": [
    "nullFraction(\"Age\")\n",
    "nullFraction(\"Age\", \"test\")"
   ]
  },
  {
   "cell_type": "markdown",
   "metadata": {},
   "source": [
    "Visually we may see these statistics better:"
   ]
  },
  {
   "cell_type": "code",
   "execution_count": 9,
   "metadata": {},
   "outputs": [
    {
     "data": {
      "image/png": "[encoded data removed]",
      "text/plain": [
       "<Figure size 432x504 with 1 Axes>"
      ]
     },
     "metadata": {
      "needs_background": "light"
     },
     "output_type": "display_data"
    }
   ],
   "source": [
    "fig,ax0 = plt.subplots(figsize=(6,7))\n",
    "sns.heatmap(train.isnull(), yticklabels=False,cmap=\"YlOrBr\", cbar=False, ax=ax0);\n",
    "ax0.set_title(\"Train Set\")\n",
    "plt.show()"
   ]
  },
  {
   "cell_type": "markdown",
   "metadata": {},
   "source": [
    "As it is mentioned earlier about 20 percent of the \"Age\" is missing. This amount of missing might be reasonable to iplement an imputution method to replace the missing data, however, such an approach could not be helpful for the \"Cabin\" as it contains about 80 percent missing data. "
   ]
  },
  {
   "cell_type": "markdown",
   "metadata": {},
   "source": [
    "## 2-2)Class Distribution"
   ]
  },
  {
   "cell_type": "markdown",
   "metadata": {},
   "source": [
    "Now let's explore the distribution of the class labels to see how the featurse can explain the target categories.\n"
   ]
  },
  {
   "cell_type": "code",
   "execution_count": 10,
   "metadata": {},
   "outputs": [
    {
     "data": {
      "image/png": "[encoded data removed]",
      "text/plain": [
       "<Figure size 432x288 with 1 Axes>"
      ]
     },
     "metadata": {
      "needs_background": "light"
     },
     "output_type": "display_data"
    }
   ],
   "source": [
    "fig, ax1 = plt.subplots( )\n",
    "train['Survived'].value_counts().sort_index().plot(kind='bar', ax=ax1)\n",
    "ax1.set_xlabel(\"Count\")\n",
    "ax1.set_ylabel(\"Survived\", labelpad=14)\n",
    "ax1.set_title(\" Training set\", y=1.02);"
   ]
  },
  {
   "cell_type": "markdown",
   "metadata": {},
   "source": [
    "The following are the visualization of the distribution of the \"Survived\" based on the different features:"
   ]
  },
  {
   "cell_type": "code",
   "execution_count": 11,
   "metadata": {},
   "outputs": [
    {
     "data": {
      "image/png": "[encoded data removed]",
      "text/plain": [
       "<Figure size 864x576 with 4 Axes>"
      ]
     },
     "metadata": {
      "needs_background": "light"
     },
     "output_type": "display_data"
    },
    {
     "data": {
      "image/png": "[encoded data removed]",
      "text/plain": [
       "<Figure size 432x288 with 1 Axes>"
      ]
     },
     "metadata": {
      "needs_background": "light"
     },
     "output_type": "display_data"
    }
   ],
   "source": [
    "fig, ax = plt.subplots(2,2, figsize=(12,8))\n",
    "sns.countplot(x=\"Survived\", hue=\"Sex\", data=train, ax=ax[0,0])\n",
    "sns.countplot(x=\"Survived\", hue=\"Pclass\", data=train, ax=ax[0,1])\n",
    "\n",
    "sns.countplot(x=\"Survived\", hue=\"SibSp\", data=train, ax=ax[1,0])\n",
    "sns.countplot(x=\"Survived\", hue=\"Embarked\", data=train, ax=ax[1,1])\n",
    "plt.show()\n",
    "\n",
    "sns.countplot(x=\"Survived\", hue=\"Parch\", data=train);"
   ]
  },
  {
   "cell_type": "code",
   "execution_count": 12,
   "metadata": {},
   "outputs": [
    {
     "data": {
      "image/png": "[encoded data removed]",
      "text/plain": [
       "<Figure size 864x576 with 4 Axes>"
      ]
     },
     "metadata": {
      "needs_background": "light"
     },
     "output_type": "display_data"
    }
   ],
   "source": [
    "fig, ax = plt.subplots(2,2, figsize=(12,8))\n",
    "sns.histplot(data=train.Age, ax=ax[0,0]);\n",
    "sns.histplot(data=train.Fare, ax = ax[0,1]);\n",
    "sns.stripplot(x=\"Survived\", y=\"Age\", data=train, ax=ax[1,0]);\n",
    "sns.stripplot(x=\"Survived\", y=\"Fare\", data=train, ax=ax[1,1]);"
   ]
  },
  {
   "cell_type": "markdown",
   "metadata": {},
   "source": [
    "None of the features alone can explain the target perfect. As the figures illustrate each of those features can distinguish between two categories to some extent. \n",
    "\n",
    "we need to drop the \"Cabin\" as the most of its values are missing.\n",
    "\n",
    "\"Name\" and \"Ticket\" may not be helpful to classify the target as their values are unique.\n",
    "\n",
    "Therefore the features which may be selected to move forward with includes:\n",
    "\n",
    "**'Pclass', 'Sex', 'Age', 'SibSp','Parch', 'Fare', 'Embarked'**"
   ]
  },
  {
   "cell_type": "code",
   "execution_count": 13,
   "metadata": {},
   "outputs": [
    {
     "name": "stdout",
     "output_type": "stream",
     "text": [
      "Unique values of the Ticket:681\n",
      "Unique values of the Name:891\n"
     ]
    }
   ],
   "source": [
    "print(\"Unique values of the Ticket:{}\".format(len(train.Ticket.unique())))\n",
    "print(\"Unique values of the Name:{}\".format(len(train.Name.unique())))\n"
   ]
  },
  {
   "cell_type": "markdown",
   "metadata": {},
   "source": [
    "# 3) Data Preparation"
   ]
  },
  {
   "cell_type": "markdown",
   "metadata": {},
   "source": [
    "## 3-1) Fill in the Missing data"
   ]
  },
  {
   "cell_type": "markdown",
   "metadata": {},
   "source": [
    "As the first step we need to fill in the missing values. As we saw earlier \"Age\" and \"Embarked\" have some missing data which must be filled in. \n",
    "\n",
    "To replace the \"Age\" missing values with proper values we need to explore the relationship between \"Age\" and other features."
   ]
  },
  {
   "cell_type": "code",
   "execution_count": 14,
   "metadata": {},
   "outputs": [
    {
     "data": {
      "image/png": "[encoded data removed]",
      "text/plain": [
       "<Figure size 1152x1008 with 6 Axes>"
      ]
     },
     "metadata": {
      "needs_background": "light"
     },
     "output_type": "display_data"
    }
   ],
   "source": [
    "fig, ax = plt.subplots(3,2, figsize=(16,14))\n",
    "sns.boxplot(x=\"Sex\", y=\"Age\", data=train, ax=ax[0,0] )\n",
    "sns.boxplot(x=\"Embarked\", y=\"Age\" ,data=train, ax=ax[0,1])\n",
    "sns.boxplot(x=\"Pclass\", y=\"Age\", data=train, ax=ax[1,0] )\n",
    "sns.boxplot(x=\"Parch\", y=\"Age\", data= train, ax=ax[1,1] )\n",
    "sns.boxplot(x=\"SibSp\", y=\"Age\", data= train, ax=ax[2,0] )\n",
    "sns.scatterplot(x=\"Fare\", y=\"Age\", data= train, ax=ax[2,1] )\n",
    "plt.show()\n"
   ]
  },
  {
   "cell_type": "markdown",
   "metadata": {},
   "source": [
    "Among the features, it seems that only \"Pclass\", \"Parch\", and \"SibSp\" may help us in order to fill the missing value in \"Age\" column.\n",
    "To select the best one let's compute the average value of \"Age\" for each of those Features:"
   ]
  },
  {
   "cell_type": "code",
   "execution_count": 15,
   "metadata": {},
   "outputs": [
    {
     "name": "stdout",
     "output_type": "stream",
     "text": [
      "Mean values of 'Age' per 'Pcalss' categories:\n",
      "Pclass\n",
      "1    38.233441\n",
      "2    29.877630\n",
      "3    25.140620\n",
      "Name: Age, dtype: float64\n",
      "*****************************\n",
      "Mean values of 'Age' per 'Parch' categories:\n",
      "Parch\n",
      "0    32.178503\n",
      "1    24.422000\n",
      "2    17.216912\n",
      "3    33.200000\n",
      "4    44.500000\n",
      "5    39.200000\n",
      "6    43.000000\n",
      "Name: Age, dtype: float64\n",
      "*****************************\n",
      "Mean values of 'Age' per 'SibSp' categories:\n",
      "SibSp\n",
      "0    31.397558\n",
      "1    30.089727\n",
      "2    22.620000\n",
      "3    13.916667\n",
      "4     7.055556\n",
      "5    10.200000\n",
      "8          NaN\n",
      "Name: Age, dtype: float64\n"
     ]
    }
   ],
   "source": [
    "print(\"Mean values of 'Age' per 'Pcalss' categories:\")\n",
    "print(train.groupby([\"Pclass\"])[\"Age\"].mean())\n",
    "print(\"*****************************\")\n",
    "print(\"Mean values of 'Age' per 'Parch' categories:\")\n",
    "print(train.groupby([\"Parch\"])[\"Age\"].mean())\n",
    "print(\"*****************************\")\n",
    "print(\"Mean values of 'Age' per 'SibSp' categories:\")\n",
    "print(train.groupby([\"SibSp\"])[\"Age\"].mean())"
   ]
  },
  {
   "cell_type": "markdown",
   "metadata": {},
   "source": [
    "The results show that we can use either \"Pclass\" or \"Parch\" values to fill in \"Age\" missing data. Since the \"Age\" seems to be more distributed across the \"Parch\" classes, it might be more reasonable to use this feature for the filling in process. So let's fill in the \"Age\" missing values using the \"Parch\" feature. A simple function and then FunctionTransformer is implemented to make it possible to be used in a pipeline transform process."
   ]
  },
  {
   "cell_type": "code",
   "execution_count": 16,
   "metadata": {},
   "outputs": [],
   "source": [
    "def ageImputer(X):\n",
    "    X['Age'] = X['Age'].fillna(train.groupby(['Parch'])['Age'].transform(np.mean))\n",
    "    return X"
   ]
  },
  {
   "cell_type": "markdown",
   "metadata": {},
   "source": [
    "In addition to \"Age\" missing values, \"Embarked\" also contains two missing values:"
   ]
  },
  {
   "cell_type": "code",
   "execution_count": 17,
   "metadata": {},
   "outputs": [
    {
     "data": {
      "text/html": [
       "<div>\n",
       "<style scoped>\n",
       "    .dataframe tbody tr th:only-of-type {\n",
       "        vertical-align: middle;\n",
       "    }\n",
       "\n",
       "    .dataframe tbody tr th {\n",
       "        vertical-align: top;\n",
       "    }\n",
       "\n",
       "    .dataframe thead th {\n",
       "        text-align: right;\n",
       "    }\n",
       "</style>\n",
       "<table border=\"1\" class=\"dataframe\">\n",
       "  <thead>\n",
       "    <tr style=\"text-align: right;\">\n",
       "      <th></th>\n",
       "      <th>PassengerId</th>\n",
       "      <th>Survived</th>\n",
       "      <th>Pclass</th>\n",
       "      <th>Name</th>\n",
       "      <th>Sex</th>\n",
       "      <th>Age</th>\n",
       "      <th>SibSp</th>\n",
       "      <th>Parch</th>\n",
       "      <th>Ticket</th>\n",
       "      <th>Fare</th>\n",
       "      <th>Cabin</th>\n",
       "      <th>Embarked</th>\n",
       "    </tr>\n",
       "  </thead>\n",
       "  <tbody>\n",
       "    <tr>\n",
       "      <th>61</th>\n",
       "      <td>62</td>\n",
       "      <td>1</td>\n",
       "      <td>1</td>\n",
       "      <td>Icard, Miss. Amelie</td>\n",
       "      <td>female</td>\n",
       "      <td>38.0</td>\n",
       "      <td>0</td>\n",
       "      <td>0</td>\n",
       "      <td>113572</td>\n",
       "      <td>80.0</td>\n",
       "      <td>B28</td>\n",
       "      <td>NaN</td>\n",
       "    </tr>\n",
       "    <tr>\n",
       "      <th>829</th>\n",
       "      <td>830</td>\n",
       "      <td>1</td>\n",
       "      <td>1</td>\n",
       "      <td>Stone, Mrs. George Nelson (Martha Evelyn)</td>\n",
       "      <td>female</td>\n",
       "      <td>62.0</td>\n",
       "      <td>0</td>\n",
       "      <td>0</td>\n",
       "      <td>113572</td>\n",
       "      <td>80.0</td>\n",
       "      <td>B28</td>\n",
       "      <td>NaN</td>\n",
       "    </tr>\n",
       "  </tbody>\n",
       "</table>\n",
       "</div>"
      ],
      "text/plain": [
       "     PassengerId  Survived  Pclass                                       Name  \\\n",
       "61            62         1       1                        Icard, Miss. Amelie   \n",
       "829          830         1       1  Stone, Mrs. George Nelson (Martha Evelyn)   \n",
       "\n",
       "        Sex   Age  SibSp  Parch  Ticket  Fare Cabin Embarked  \n",
       "61   female  38.0      0      0  113572  80.0   B28      NaN  \n",
       "829  female  62.0      0      0  113572  80.0   B28      NaN  "
      ]
     },
     "execution_count": 17,
     "metadata": {},
     "output_type": "execute_result"
    }
   ],
   "source": [
    "train[train[\"Embarked\"].isna()]"
   ]
  },
  {
   "cell_type": "markdown",
   "metadata": {},
   "source": [
    "As we can see \"Sex\", \"Pclass\", \"Parch\", and \"SibSp\" are identical for these two rows which are \"female\", 1, 0, 0 respectively. We can fill in these two missing data based on the majority vote of those values. The following result candidate \"S\" as a suitable value for the missing data."
   ]
  },
  {
   "cell_type": "code",
   "execution_count": 18,
   "metadata": {},
   "outputs": [
    {
     "name": "stdout",
     "output_type": "stream",
     "text": [
      "Sex     Embarked\n",
      "female  S           203\n",
      "        C            73\n",
      "        Q            36\n",
      "male    S           441\n",
      "        C            95\n",
      "        Q            41\n",
      "Name: Embarked, dtype: int64\n",
      "Pclass  Embarked\n",
      "1       S           127\n",
      "        C            85\n",
      "        Q             2\n",
      "2       S           164\n",
      "        C            17\n",
      "        Q             3\n",
      "3       S           353\n",
      "        Q            72\n",
      "        C            66\n",
      "Name: Embarked, dtype: int64\n"
     ]
    }
   ],
   "source": [
    "print(train.groupby([\"Sex\"])[\"Embarked\"].value_counts())\n",
    "print(train.groupby([\"Pclass\"])[\"Embarked\"].value_counts())"
   ]
  },
  {
   "cell_type": "code",
   "execution_count": 19,
   "metadata": {},
   "outputs": [],
   "source": [
    "train['Embarked'] = train['Embarked'].fillna('S')"
   ]
  },
  {
   "cell_type": "markdown",
   "metadata": {},
   "source": [
    "## 3-2)Droping unhelpful features"
   ]
  },
  {
   "cell_type": "markdown",
   "metadata": {},
   "source": [
    "As is is explained earlier we need to drop {\"Name\", \"Ticket\", \"Cabin\"} from our data."
   ]
  },
  {
   "cell_type": "code",
   "execution_count": 20,
   "metadata": {},
   "outputs": [],
   "source": [
    "# def featuresDropper(X):\n",
    "#     return X.drop(columns=[\"Name\", \"Ticket\", \"Cabin\"])\n",
    "\n",
    "def featuresDropper(X):\n",
    "    return X.drop(columns=[\"Name\", \"Ticket\"])\n",
    "\n",
    "def featuresAdder(X):\n",
    "    X['Cabin']=X['Cabin'].map(lambda c: 0 if pd.isnull(c) else 1)\n",
    "    return X\n",
    "    "
   ]
  },
  {
   "cell_type": "markdown",
   "metadata": {},
   "source": [
    "## 3-3) Categorical features to numerical"
   ]
  },
  {
   "cell_type": "markdown",
   "metadata": {},
   "source": [
    "Another important step in feature preparation is to map the categorical values into some numerical values in order to be able to feed the machine learning algorithm with the categorical inputs. As we noticed earlier \"Sex\" and \"Embarked\" values are not numeric. To map those features into numerical ones, pandas get_dummies function is implemented."
   ]
  },
  {
   "cell_type": "code",
   "execution_count": 21,
   "metadata": {},
   "outputs": [],
   "source": [
    "# def catToDum(X):\n",
    "#     sex_df = pd.get_dummies(X['Sex'],drop_first=True)\n",
    "#     embark_df = pd.get_dummies(X['Embarked'],drop_first=True)\n",
    "#     finalData = X.drop([\"Sex\", \"Embarked\"], axis=1)\n",
    "#     return pd.concat([finalData, sex_df, embark_df], axis=1)\n",
    "\n",
    "def catToDum(X):\n",
    "    X[\"Sex\"] = X[\"Sex\"].map({'male':1, 'female':0})\n",
    "    X[\"Embarked\"] = X[\"Embarked\"].map({'C':0, 'S':1, 'Q':2})    \n",
    "    return X"
   ]
  },
  {
   "cell_type": "markdown",
   "metadata": {},
   "source": [
    "Having all the preprocessing functions at hand, we now can simply use the pipeline process from sklearn to transform our dataset to the prepared data in order to train the machine learning classifiers."
   ]
  },
  {
   "cell_type": "code",
   "execution_count": 22,
   "metadata": {},
   "outputs": [
    {
     "data": {
      "text/html": [
       "<div>\n",
       "<style scoped>\n",
       "    .dataframe tbody tr th:only-of-type {\n",
       "        vertical-align: middle;\n",
       "    }\n",
       "\n",
       "    .dataframe tbody tr th {\n",
       "        vertical-align: top;\n",
       "    }\n",
       "\n",
       "    .dataframe thead th {\n",
       "        text-align: right;\n",
       "    }\n",
       "</style>\n",
       "<table border=\"1\" class=\"dataframe\">\n",
       "  <thead>\n",
       "    <tr style=\"text-align: right;\">\n",
       "      <th></th>\n",
       "      <th>PassengerId</th>\n",
       "      <th>Survived</th>\n",
       "      <th>Pclass</th>\n",
       "      <th>Sex</th>\n",
       "      <th>Age</th>\n",
       "      <th>SibSp</th>\n",
       "      <th>Parch</th>\n",
       "      <th>Fare</th>\n",
       "      <th>Cabin</th>\n",
       "      <th>Embarked</th>\n",
       "    </tr>\n",
       "  </thead>\n",
       "  <tbody>\n",
       "    <tr>\n",
       "      <th>0</th>\n",
       "      <td>1</td>\n",
       "      <td>0</td>\n",
       "      <td>3</td>\n",
       "      <td>1</td>\n",
       "      <td>22.0</td>\n",
       "      <td>1</td>\n",
       "      <td>0</td>\n",
       "      <td>7.2500</td>\n",
       "      <td>0</td>\n",
       "      <td>1</td>\n",
       "    </tr>\n",
       "    <tr>\n",
       "      <th>1</th>\n",
       "      <td>2</td>\n",
       "      <td>1</td>\n",
       "      <td>1</td>\n",
       "      <td>0</td>\n",
       "      <td>38.0</td>\n",
       "      <td>1</td>\n",
       "      <td>0</td>\n",
       "      <td>71.2833</td>\n",
       "      <td>1</td>\n",
       "      <td>0</td>\n",
       "    </tr>\n",
       "    <tr>\n",
       "      <th>2</th>\n",
       "      <td>3</td>\n",
       "      <td>1</td>\n",
       "      <td>3</td>\n",
       "      <td>0</td>\n",
       "      <td>26.0</td>\n",
       "      <td>0</td>\n",
       "      <td>0</td>\n",
       "      <td>7.9250</td>\n",
       "      <td>0</td>\n",
       "      <td>1</td>\n",
       "    </tr>\n",
       "    <tr>\n",
       "      <th>3</th>\n",
       "      <td>4</td>\n",
       "      <td>1</td>\n",
       "      <td>1</td>\n",
       "      <td>0</td>\n",
       "      <td>35.0</td>\n",
       "      <td>1</td>\n",
       "      <td>0</td>\n",
       "      <td>53.1000</td>\n",
       "      <td>1</td>\n",
       "      <td>1</td>\n",
       "    </tr>\n",
       "    <tr>\n",
       "      <th>4</th>\n",
       "      <td>5</td>\n",
       "      <td>0</td>\n",
       "      <td>3</td>\n",
       "      <td>1</td>\n",
       "      <td>35.0</td>\n",
       "      <td>0</td>\n",
       "      <td>0</td>\n",
       "      <td>8.0500</td>\n",
       "      <td>0</td>\n",
       "      <td>1</td>\n",
       "    </tr>\n",
       "  </tbody>\n",
       "</table>\n",
       "</div>"
      ],
      "text/plain": [
       "   PassengerId  Survived  Pclass  Sex   Age  SibSp  Parch     Fare  Cabin  \\\n",
       "0            1         0       3    1  22.0      1      0   7.2500      0   \n",
       "1            2         1       1    0  38.0      1      0  71.2833      1   \n",
       "2            3         1       3    0  26.0      0      0   7.9250      0   \n",
       "3            4         1       1    0  35.0      1      0  53.1000      1   \n",
       "4            5         0       3    1  35.0      0      0   8.0500      0   \n",
       "\n",
       "   Embarked  \n",
       "0         1  \n",
       "1         0  \n",
       "2         1  \n",
       "3         1  \n",
       "4         1  "
      ]
     },
     "execution_count": 22,
     "metadata": {},
     "output_type": "execute_result"
    }
   ],
   "source": [
    "prep_pipeline = Pipeline([\n",
    "        ('imputer', FunctionTransformer(ageImputer, validate=False)),\n",
    "        ('features_droper', FunctionTransformer(featuresDropper, validate=False)),\n",
    "        ('features_adder', FunctionTransformer(featuresAdder, validate=False)),\n",
    "        ('cat_to_dum', FunctionTransformer(catToDum, validate=False))\n",
    "    ])\n",
    "\n",
    "finalData = prep_pipeline.fit_transform(train)\n",
    "\n",
    "finalData.head()"
   ]
  },
  {
   "cell_type": "code",
   "execution_count": 23,
   "metadata": {},
   "outputs": [
    {
     "data": {
      "image/png": "[encoded data removed]",
      "text/plain": [
       "<Figure size 432x288 with 1 Axes>"
      ]
     },
     "metadata": {
      "needs_background": "light"
     },
     "output_type": "display_data"
    }
   ],
   "source": [
    "sns.heatmap(finalData.isnull(), yticklabels=False,cmap=\"YlOrBr\", cbar=False);"
   ]
  },
  {
   "cell_type": "markdown",
   "metadata": {},
   "source": [
    "As it is obvious, the dataset contains no missing data. The unhelpful columns have been dropped and the categorical features have been converted to their dumies.\n",
    "The data set is now ready to train the models and evaluate them. To do so we need to split the data into train and test sets."
   ]
  },
  {
   "cell_type": "markdown",
   "metadata": {},
   "source": [
    "## 3-4) Splitting the final data into train and test"
   ]
  },
  {
   "cell_type": "code",
   "execution_count": 24,
   "metadata": {},
   "outputs": [],
   "source": [
    "X_train, X_test, y_train, y_test = train_test_split(finalData[['Pclass', 'Age', 'SibSp', 'Parch','Fare','Cabin', 'Sex', 'Embarked']],\n",
    "                                                    finalData[['Survived']], test_size=0.15, random_state=41,\n",
    "                                                    stratify=finalData[['Survived']])"
   ]
  },
  {
   "cell_type": "code",
   "execution_count": 25,
   "metadata": {},
   "outputs": [
    {
     "name": "stdout",
     "output_type": "stream",
     "text": [
      "X_train Shape:(757, 8)\n",
      "y_train Shape:(757, 1)\n",
      "X_test Shape:(134, 8)\n",
      "y_test Shape:(134, 1)\n"
     ]
    }
   ],
   "source": [
    "print('X_train Shape:{}'.format(X_train.shape))\n",
    "print('y_train Shape:{}'.format(y_train.shape))\n",
    "print('X_test Shape:{}'.format(X_test.shape))\n",
    "print('y_test Shape:{}'.format(y_test.shape))"
   ]
  },
  {
   "cell_type": "markdown",
   "metadata": {},
   "source": [
    "# 4)Training and Evaluation"
   ]
  },
  {
   "cell_type": "markdown",
   "metadata": {},
   "source": [
    "The following are the various models have been trained on our training data. cross validation grid search was implemented to tune the hyperparameters and finally the best estimator was evaluated by applying it on our test set. A classification report consisting the acccuracy,F1, recall, and precision for each model is shown."
   ]
  },
  {
   "cell_type": "markdown",
   "metadata": {},
   "source": [
    "## 0)XGBClassifier"
   ]
  },
  {
   "cell_type": "code",
   "execution_count": 26,
   "metadata": {},
   "outputs": [
    {
     "name": "stdout",
     "output_type": "stream",
     "text": [
      "Best Parameters:\n",
      "\n",
      "\tclf__max_depth : 3\n",
      "\tclf__min_child_weight : 2\n",
      "\tclf__n_estimators : 100\n",
      "\tclf__subsample : 0.8\n",
      "\n",
      "Best Score: 0.8282982456140351\n",
      "Performance on the test data\n",
      "\n",
      "              precision    recall  f1-score   support\n",
      "\n",
      "           0       0.85      0.92      0.88        83\n",
      "           1       0.84      0.75      0.79        51\n",
      "\n",
      "    accuracy                           0.85       134\n",
      "   macro avg       0.85      0.83      0.84       134\n",
      "weighted avg       0.85      0.85      0.85       134\n",
      "\n"
     ]
    }
   ],
   "source": [
    "pipeline = Pipeline([('scaler', StandardScaler()),                 \n",
    "                     ('clf', XGBClassifier())])\n",
    "\n",
    "params = {#'scaler__with_mean':(True, False),\n",
    "          #'scaler__with_std':(True, False),\n",
    "          'clf__n_estimators':(100, 500, 2000),\n",
    "          'clf__max_depth':(3,4,5),\n",
    "          'clf__min_child_weight':(2,3,4),\n",
    "          'clf__subsample': (0.9, 0.8, 0.1)\n",
    "         }\n",
    "\n",
    "grid_search = GridSearchCV(pipeline, params, cv=10)\n",
    "\n",
    "grid_search.fit(X_train, y_train)\n",
    "\n",
    "#Best score and parameters\n",
    "print(\"Best Parameters:\\n\")\n",
    "for k,v in grid_search.best_params_.items():\n",
    "    print(f\"\\t{k} : {v}\")\n",
    "print()\n",
    "print(f\"Best Score: {grid_search.best_score_}\")\n",
    "\n",
    "\n",
    "#Best estimator\n",
    "print(\"Performance on the test data\")\n",
    "bestEstimator = grid_search.best_estimator_\n",
    "\n",
    "bestEstimator.fit(X_train, y_train)\n",
    "pred = bestEstimator.predict(X_test)\n",
    "print()\n",
    "print(classification_report(y_test, pred))\n"
   ]
  },
  {
   "cell_type": "markdown",
   "metadata": {},
   "source": [
    "## 4-1)NaiveBayes"
   ]
  },
  {
   "cell_type": "code",
   "execution_count": 100,
   "metadata": {},
   "outputs": [
    {
     "name": "stdout",
     "output_type": "stream",
     "text": [
      "Best Parameters:\n",
      "\n",
      "\tscaler__with_mean : True\n",
      "\tscaler__with_std : True\n",
      "\n",
      "Best Score: 0.7689177413733008\n",
      "Performance on the test data\n",
      "\n",
      "              precision    recall  f1-score   support\n",
      "\n",
      "           0       0.86      0.89      0.88        83\n",
      "           1       0.81      0.76      0.79        51\n",
      "\n",
      "    accuracy                           0.84       134\n",
      "   macro avg       0.84      0.83      0.83       134\n",
      "weighted avg       0.84      0.84      0.84       134\n",
      "\n"
     ]
    }
   ],
   "source": [
    "\n",
    "pipeline = Pipeline([('scaler', StandardScaler()),                 \n",
    "                     ('clf', GaussianNB())])\n",
    "\n",
    "params = {'scaler__with_mean':(True, False),\n",
    "          'scaler__with_std':(True, False)\n",
    "         }\n",
    "\n",
    "grid_search = GridSearchCV(pipeline, params, verbose=0)\n",
    "\n",
    "grid_search.fit(X_train, y_train)\n",
    "\n",
    "#Best score and parameters\n",
    "print(\"Best Parameters:\\n\")\n",
    "for k,v in grid_search.best_params_.items():\n",
    "    print(f\"\\t{k} : {v}\")\n",
    "print()\n",
    "print(f\"Best Score: {grid_search.best_score_}\")\n",
    "\n",
    "\n",
    "#Best estimator\n",
    "print(\"Performance on the test data\")\n",
    "bestEstimator = grid_search.best_estimator_\n",
    "\n",
    "bestEstimator.fit(X_train, y_train)\n",
    "pred = bestEstimator.predict(X_test)\n",
    "print()\n",
    "print(classification_report(y_test, pred))\n"
   ]
  },
  {
   "cell_type": "markdown",
   "metadata": {},
   "source": [
    "## 4-2)Logistic Regression"
   ]
  },
  {
   "cell_type": "code",
   "execution_count": 30,
   "metadata": {},
   "outputs": [
    {
     "name": "stdout",
     "output_type": "stream",
     "text": [
      "Best Parameters:\n",
      "\n",
      "\tclf__C : 0.01\n",
      "\n",
      "Best Score: 0.786066573719066\n",
      "Performance on the test data\n",
      "\n",
      "              precision    recall  f1-score   support\n",
      "\n",
      "           0       0.82      0.96      0.88        83\n",
      "           1       0.92      0.65      0.76        51\n",
      "\n",
      "    accuracy                           0.84       134\n",
      "   macro avg       0.87      0.81      0.82       134\n",
      "weighted avg       0.85      0.84      0.84       134\n",
      "\n"
     ]
    }
   ],
   "source": [
    "\n",
    "\n",
    "pipeline = Pipeline([('scaler', StandardScaler()),                 \n",
    "                     ('clf', LogisticRegression())])\n",
    "\n",
    "params = {#'scaler__with_mean':(True, False),\n",
    "          #'scaler__with_std':(True, False),\n",
    "          'clf__C':(0.01, 1, 10, 100)          \n",
    "         }\n",
    "\n",
    "grid_search = GridSearchCV(pipeline, params, verbose=0)\n",
    "\n",
    "grid_search.fit(X_train, y_train)\n",
    "\n",
    "#Best score and parameters\n",
    "print(\"Best Parameters:\\n\")\n",
    "for k,v in grid_search.best_params_.items():\n",
    "    print(f\"\\t{k} : {v}\")\n",
    "print()\n",
    "print(f\"Best Score: {grid_search.best_score_}\")\n",
    "\n",
    "\n",
    "#Best estimator\n",
    "print(\"Performance on the test data\")\n",
    "bestEstimator = grid_search.best_estimator_\n",
    "\n",
    "bestEstimator.fit(X_train, y_train)\n",
    "pred = bestEstimator.predict(X_test)\n",
    "print()\n",
    "print(classification_report(y_test, pred))\n"
   ]
  },
  {
   "cell_type": "markdown",
   "metadata": {},
   "source": [
    "## 4-3)KNeighborsClassifier"
   ]
  },
  {
   "cell_type": "code",
   "execution_count": 29,
   "metadata": {},
   "outputs": [
    {
     "name": "stdout",
     "output_type": "stream",
     "text": [
      "Best Parameters:\n",
      "\n",
      "\tclf__n_neighbors : 10\n",
      "\tclf__p : 1\n",
      "\tclf__weights : uniform\n",
      "\tscaler__with_mean : True\n",
      "\tscaler__with_std : True\n",
      "\n",
      "Best Score: 0.8044963401882189\n",
      "Performance on the test data\n",
      "\n",
      "              precision    recall  f1-score   support\n",
      "\n",
      "           0       0.85      0.94      0.89        83\n",
      "           1       0.88      0.73      0.80        51\n",
      "\n",
      "    accuracy                           0.86       134\n",
      "   macro avg       0.86      0.83      0.84       134\n",
      "weighted avg       0.86      0.86      0.85       134\n",
      "\n"
     ]
    }
   ],
   "source": [
    "\n",
    "\n",
    "pipeline = Pipeline([('scaler', StandardScaler()),                 \n",
    "                     ('clf', KNeighborsClassifier())])\n",
    "\n",
    "params = {'scaler__with_mean':(True, False),\n",
    "          'scaler__with_std':(True, False),\n",
    "          'clf__n_neighbors':(5,10),\n",
    "          'clf__weights':('uniform', 'distance'),\n",
    "          'clf__p':(1,2)\n",
    "          \n",
    "         }\n",
    "\n",
    "grid_search = GridSearchCV(pipeline, params, verbose=0)\n",
    "\n",
    "grid_search.fit(X_train, y_train)\n",
    "\n",
    "#Best score and parameters\n",
    "print(\"Best Parameters:\\n\")\n",
    "for k,v in grid_search.best_params_.items():\n",
    "    print(f\"\\t{k} : {v}\")\n",
    "print()\n",
    "print(f\"Best Score: {grid_search.best_score_}\")\n",
    "\n",
    "\n",
    "#Best estimator\n",
    "print(\"Performance on the test data\")\n",
    "bestEstimator = grid_search.best_estimator_\n",
    "\n",
    "bestEstimator.fit(X_train, y_train)\n",
    "pred = bestEstimator.predict(X_test)\n",
    "print()\n",
    "print(classification_report(y_test, pred))\n",
    "\n"
   ]
  },
  {
   "cell_type": "markdown",
   "metadata": {},
   "source": [
    "## 4-4)SVC"
   ]
  },
  {
   "cell_type": "code",
   "execution_count": 28,
   "metadata": {},
   "outputs": [
    {
     "name": "stdout",
     "output_type": "stream",
     "text": [
      "Best Parameters:\n",
      "\n",
      "\tclf__C : 1\n",
      "\tclf__kernel : rbf\n",
      "\tscaler__with_mean : True\n",
      "\tscaler__with_std : True\n",
      "\n",
      "Best Score: 0.8151533635413035\n",
      "Performance on the test data\n",
      "\n",
      "              precision    recall  f1-score   support\n",
      "\n",
      "           0       0.87      0.95      0.91        83\n",
      "           1       0.91      0.76      0.83        51\n",
      "\n",
      "    accuracy                           0.88       134\n",
      "   macro avg       0.89      0.86      0.87       134\n",
      "weighted avg       0.88      0.88      0.88       134\n",
      "\n"
     ]
    }
   ],
   "source": [
    "\n",
    "\n",
    "pipeline = Pipeline([('scaler', StandardScaler()),                 \n",
    "                     ('clf', SVC())])\n",
    "\n",
    "params = {'scaler__with_mean':(True, False),\n",
    "          'scaler__with_std':(True, False),\n",
    "          'clf__C':(0.5, 1),\n",
    "          'clf__kernel':('poly', 'rbf', 'sigmoid')\n",
    "           \n",
    "         }\n",
    "\n",
    "grid_search = GridSearchCV(pipeline, params, verbose=0)\n",
    "\n",
    "grid_search.fit(X_train, y_train)\n",
    "\n",
    "#Best score and parameters\n",
    "print(\"Best Parameters:\\n\")\n",
    "for k,v in grid_search.best_params_.items():\n",
    "    print(f\"\\t{k} : {v}\")\n",
    "print()\n",
    "print(f\"Best Score: {grid_search.best_score_}\")\n",
    "\n",
    "\n",
    "#Best estimator\n",
    "print(\"Performance on the test data\")\n",
    "bestEstimator = grid_search.best_estimator_\n",
    "\n",
    "bestEstimator.fit(X_train, y_train)\n",
    "pred = bestEstimator.predict(X_test)\n",
    "print()\n",
    "print(classification_report(y_test, pred))\n",
    "\n"
   ]
  },
  {
   "cell_type": "markdown",
   "metadata": {},
   "source": [
    "## 4-5)DecisionTreeClassifier"
   ]
  },
  {
   "cell_type": "code",
   "execution_count": 104,
   "metadata": {},
   "outputs": [
    {
     "name": "stdout",
     "output_type": "stream",
     "text": [
      "Best Parameters:\n",
      "\n",
      "\tclf__criterion : entropy\n",
      "\tclf__max_features : auto\n",
      "\tclf__splitter : best\n",
      "\tscaler__with_mean : True\n",
      "\tscaler__with_std : True\n",
      "\n",
      "Best Score: 0.7754356918787034\n",
      "Performance on the test data\n",
      "\n",
      "              precision    recall  f1-score   support\n",
      "\n",
      "           0       0.84      0.87      0.85        83\n",
      "           1       0.77      0.73      0.75        51\n",
      "\n",
      "    accuracy                           0.81       134\n",
      "   macro avg       0.80      0.80      0.80       134\n",
      "weighted avg       0.81      0.81      0.81       134\n",
      "\n"
     ]
    }
   ],
   "source": [
    "\n",
    "\n",
    "pipeline = Pipeline([('scaler', StandardScaler()),                 \n",
    "                     ('clf', DecisionTreeClassifier())])\n",
    "\n",
    "params = {'scaler__with_mean':(True, False),\n",
    "          'scaler__with_std':(True, False),\n",
    "          'clf__criterion': ('gini', 'entropy'),\n",
    "          'clf__splitter': ('best', 'random'),\n",
    "          'clf__max_features':('auto', 'sqrt','log2')\n",
    "         }\n",
    "\n",
    "grid_search = GridSearchCV(pipeline, params, verbose=0)\n",
    "\n",
    "grid_search.fit(X_train, y_train)\n",
    "\n",
    "#Best score and parameters\n",
    "print(\"Best Parameters:\\n\")\n",
    "for k,v in grid_search.best_params_.items():\n",
    "    print(f\"\\t{k} : {v}\")\n",
    "print()\n",
    "print(f\"Best Score: {grid_search.best_score_}\")\n",
    "\n",
    "\n",
    "#Best estimator\n",
    "print(\"Performance on the test data\")\n",
    "bestEstimator = grid_search.best_estimator_\n",
    "\n",
    "bestEstimator.fit(X_train, y_train)\n",
    "pred = bestEstimator.predict(X_test)\n",
    "print()\n",
    "print(classification_report(y_test, pred))"
   ]
  },
  {
   "cell_type": "markdown",
   "metadata": {},
   "source": [
    "## 4-6)GradientBoostingClassifier"
   ]
  },
  {
   "cell_type": "code",
   "execution_count": 35,
   "metadata": {},
   "outputs": [
    {
     "name": "stdout",
     "output_type": "stream",
     "text": [
      "Best Parameters:\n",
      "\n",
      "\tclf__learning_rate : 0.1\n",
      "\tclf__max_features : auto\n",
      "\tclf__n_estimators : 100\n",
      "\tclf__subsample : 0.5\n",
      "\tscaler__with_mean : False\n",
      "\tscaler__with_std : True\n",
      "\n",
      "Best Score: 0.819092018124782\n",
      "Performance on the test data\n",
      "\n",
      "              precision    recall  f1-score   support\n",
      "\n",
      "           0       0.85      0.94      0.89        83\n",
      "           1       0.88      0.73      0.80        51\n",
      "\n",
      "    accuracy                           0.86       134\n",
      "   macro avg       0.86      0.83      0.84       134\n",
      "weighted avg       0.86      0.86      0.85       134\n",
      "\n"
     ]
    }
   ],
   "source": [
    "\n",
    "\n",
    "pipeline = Pipeline([('scaler', StandardScaler()),                 \n",
    "                     ('clf', GradientBoostingClassifier())])\n",
    "\n",
    "params = {'scaler__with_mean':(True, False),\n",
    "          'scaler__with_std':(True, False),\n",
    "          'clf__learning_rate': (0.01, 0.1),            \n",
    "          'clf__n_estimators': (100,200,300),\n",
    "          'clf__subsample': (0.5, 1),          \n",
    "          'clf__max_features':('auto', 'sqrt','log2')\n",
    "         }\n",
    "\n",
    "grid_search = GridSearchCV(pipeline, params, verbose=0)\n",
    "\n",
    "grid_search.fit(X_train, y_train)\n",
    "\n",
    "#Best score and parameters\n",
    "print(\"Best Parameters:\\n\")\n",
    "for k,v in grid_search.best_params_.items():\n",
    "    print(f\"\\t{k} : {v}\")\n",
    "print()\n",
    "print(f\"Best Score: {grid_search.best_score_}\")\n",
    "\n",
    "\n",
    "#Best estimator\n",
    "print(\"Performance on the test data\")\n",
    "bestEstimator = grid_search.best_estimator_\n",
    "\n",
    "bestEstimator.fit(X_train, y_train)\n",
    "pred = bestEstimator.predict(X_test)\n",
    "print()\n",
    "print(classification_report(y_test, pred))\n"
   ]
  },
  {
   "cell_type": "markdown",
   "metadata": {},
   "source": [
    "## 4-7)RandomForestClassifier"
   ]
  },
  {
   "cell_type": "code",
   "execution_count": 32,
   "metadata": {},
   "outputs": [
    {
     "name": "stdout",
     "output_type": "stream",
     "text": [
      "Best Parameters:\n",
      "\n",
      "\tclf__criterion : entropy\n",
      "\tclf__max_features : log2\n",
      "\tclf__n_estimators : 100\n",
      "\tscaler__with_mean : True\n",
      "\tscaler__with_std : False\n",
      "\n",
      "Best Score: 0.7966277448588358\n",
      "Performance on the test data\n",
      "\n",
      "              precision    recall  f1-score   support\n",
      "\n",
      "           0       0.87      0.89      0.88        83\n",
      "           1       0.82      0.78      0.80        51\n",
      "\n",
      "    accuracy                           0.85       134\n",
      "   macro avg       0.84      0.84      0.84       134\n",
      "weighted avg       0.85      0.85      0.85       134\n",
      "\n"
     ]
    }
   ],
   "source": [
    "\n",
    "\n",
    "pipeline = Pipeline([('scaler', StandardScaler()),                 \n",
    "                     ('clf', RandomForestClassifier())])\n",
    "\n",
    "params = {'scaler__with_mean':(True, False),\n",
    "          'scaler__with_std':(True, False),\n",
    "          'clf__criterion': ('gini', 'entropy'),            \n",
    "          'clf__n_estimators': (100,200,300),          \n",
    "          'clf__max_features':('auto', 'sqrt','log2')\n",
    "         }\n",
    "\n",
    "grid_search = GridSearchCV(pipeline, params, verbose=0)\n",
    "\n",
    "grid_search.fit(X_train, y_train)\n",
    "\n",
    "#Best score and parameters\n",
    "print(\"Best Parameters:\\n\")\n",
    "for k,v in grid_search.best_params_.items():\n",
    "    print(f\"\\t{k} : {v}\")\n",
    "print()\n",
    "print(f\"Best Score: {grid_search.best_score_}\")\n",
    "\n",
    "\n",
    "#Best estimator\n",
    "print(\"Performance on the test data\")\n",
    "bestEstimator = grid_search.best_estimator_\n",
    "\n",
    "bestEstimator.fit(X_train, y_train)\n",
    "pred = bestEstimator.predict(X_test)\n",
    "print()\n",
    "print(classification_report(y_test, pred))\n",
    "\n"
   ]
  },
  {
   "cell_type": "markdown",
   "metadata": {},
   "source": [
    "## 4-8)AdaBoostClassifier"
   ]
  },
  {
   "cell_type": "code",
   "execution_count": 33,
   "metadata": {},
   "outputs": [
    {
     "name": "stdout",
     "output_type": "stream",
     "text": [
      "Best Parameters:\n",
      "\n",
      "\tclf__n_estimators : 150\n",
      "\tscaler__with_mean : True\n",
      "\tscaler__with_std : True\n",
      "\n",
      "Best Score: 0.792645521087487\n",
      "Performance on the test data\n",
      "\n",
      "              precision    recall  f1-score   support\n",
      "\n",
      "           0       0.87      0.89      0.88        83\n",
      "           1       0.82      0.78      0.80        51\n",
      "\n",
      "    accuracy                           0.85       134\n",
      "   macro avg       0.84      0.84      0.84       134\n",
      "weighted avg       0.85      0.85      0.85       134\n",
      "\n"
     ]
    }
   ],
   "source": [
    "\n",
    "\n",
    "pipeline = Pipeline([('scaler', StandardScaler()),                 \n",
    "                     ('clf', AdaBoostClassifier())])\n",
    "\n",
    "params = {'scaler__with_mean':(True, False),\n",
    "          'scaler__with_std':(True, False),                      \n",
    "          'clf__n_estimators': (50,150,200)          \n",
    "          \n",
    "         }\n",
    "\n",
    "grid_search = GridSearchCV(pipeline, params, verbose=0)\n",
    "\n",
    "grid_search.fit(X_train, y_train)\n",
    "\n",
    "#Best score and parameters\n",
    "print(\"Best Parameters:\\n\")\n",
    "for k,v in grid_search.best_params_.items():\n",
    "    print(f\"\\t{k} : {v}\")\n",
    "print()\n",
    "print(f\"Best Score: {grid_search.best_score_}\")\n",
    "\n",
    "\n",
    "#Best estimator\n",
    "print(\"Performance on the test data\")\n",
    "bestEstimator = grid_search.best_estimator_\n",
    "\n",
    "bestEstimator.fit(X_train, y_train)\n",
    "pred = bestEstimator.predict(X_test)\n",
    "print()\n",
    "print(classification_report(y_test, pred))\n",
    "\n"
   ]
  },
  {
   "cell_type": "markdown",
   "metadata": {},
   "source": [
    "## 4-9)GaussianProcessClassifier"
   ]
  },
  {
   "cell_type": "code",
   "execution_count": 27,
   "metadata": {},
   "outputs": [
    {
     "name": "stdout",
     "output_type": "stream",
     "text": [
      "Best Parameters:\n",
      "\n",
      "\tclf__kernel : 1**2 * RBF(length_scale=1)\n",
      "\n",
      "Best Score: 0.8164604391774137\n",
      "Performance on the test data\n",
      "\n",
      "              precision    recall  f1-score   support\n",
      "\n",
      "           0       0.87      0.95      0.91        83\n",
      "           1       0.91      0.76      0.83        51\n",
      "\n",
      "    accuracy                           0.88       134\n",
      "   macro avg       0.89      0.86      0.87       134\n",
      "weighted avg       0.88      0.88      0.88       134\n",
      "\n"
     ]
    }
   ],
   "source": [
    "\n",
    "\n",
    "pipeline = Pipeline([('scaler', StandardScaler()),                 \n",
    "                     ('clf', GaussianProcessClassifier())])\n",
    "\n",
    "params = {#'scaler__with_mean':(True, False),\n",
    "          #'scaler__with_std':(True, False),\n",
    "          'clf__kernel':(1*RBF(1),1*Matern(1,1.5), 1*RBF(0.5))\n",
    "                   \n",
    "          \n",
    "         }\n",
    "\n",
    "grid_search = GridSearchCV(pipeline, params, verbose=0)\n",
    "\n",
    "grid_search.fit(X_train, y_train)\n",
    "\n",
    "#Best score and parameters\n",
    "print(\"Best Parameters:\\n\")\n",
    "for k,v in grid_search.best_params_.items():\n",
    "    print(f\"\\t{k} : {v}\")\n",
    "print()\n",
    "print(f\"Best Score: {grid_search.best_score_}\")\n",
    "\n",
    "\n",
    "#Best estimator\n",
    "print(\"Performance on the test data\")\n",
    "bestEstimator = grid_search.best_estimator_\n",
    "\n",
    "bestEstimator.fit(X_train, y_train)\n",
    "pred = bestEstimator.predict(X_test)\n",
    "print()\n",
    "print(classification_report(y_test, pred))\n",
    "\n",
    "\n"
   ]
  },
  {
   "cell_type": "markdown",
   "metadata": {},
   "source": [
    "## 4-10)Voting Classifier"
   ]
  },
  {
   "cell_type": "markdown",
   "metadata": {},
   "source": [
    "So far the best accuracy was obtained by the models Logistic Regression, KNeighborsClassifier, SVC, and GaussianProcessClassifier. Let's combine these different classifiers to use a majority vote to predict the class labels. This can be reached by VotingClassifier from sklearn.ensemble."
   ]
  },
  {
   "cell_type": "code",
   "execution_count": null,
   "metadata": {},
   "outputs": [],
   "source": [
    "clf__learning_rate : 0.1\n",
    "\tclf__max_features : auto\n",
    "\tclf__n_estimators : 100\n",
    "\tclf__subsample : 0.5"
   ]
  },
  {
   "cell_type": "code",
   "execution_count": 42,
   "metadata": {},
   "outputs": [
    {
     "name": "stdout",
     "output_type": "stream",
     "text": [
      "\n",
      "              precision    recall  f1-score   support\n",
      "\n",
      "           0       0.87      0.98      0.92        83\n",
      "           1       0.95      0.76      0.85        51\n",
      "\n",
      "    accuracy                           0.90       134\n",
      "   macro avg       0.91      0.87      0.88       134\n",
      "weighted avg       0.90      0.90      0.89       134\n",
      "\n"
     ]
    }
   ],
   "source": [
    "model1 = LogisticRegression(C=0.01)\n",
    "model2 = KNeighborsClassifier(n_neighbors=10, p=1, weights='uniform')\n",
    "model3 = SVC(C=1, kernel='rbf')\n",
    "model4 = GaussianProcessClassifier(kernel=1**2 * RBF(length_scale=1))\n",
    "model5 = XGBClassifier(n_estimators=100, max_depth=3, min_child_weight=2, subsample=0.8)\n",
    "\n",
    "\n",
    "classifiers=[('lr', model1), ('kn', model2), ('svc', model3), ('gp', model4), ('xgb', model5)]\n",
    "\n",
    "#Ensemble classifier\n",
    "ensemble_clf = VotingClassifier(estimators=classifiers, voting='hard')\n",
    "\n",
    "ens_pipeline = Pipeline([('scaler', StandardScaler()),                 \n",
    "                     ('clf', ensemble_clf)])\n",
    "\n",
    "ens_pipeline.fit(X_train, y_train)\n",
    "pred = ens_pipeline.predict(X_test)\n",
    "print()\n",
    "print(classification_report(y_test, pred))\n",
    "\n"
   ]
  },
  {
   "cell_type": "markdown",
   "metadata": {},
   "source": [
    "It seems that the ensemble model could outperform the individual models. Therefore we continue with that to predict the class labels for the test set."
   ]
  },
  {
   "cell_type": "markdown",
   "metadata": {},
   "source": [
    "# 5) Predicting the class labels for the test set"
   ]
  },
  {
   "cell_type": "markdown",
   "metadata": {},
   "source": [
    "Now we train a GaussianProcess Classifier on the whole training data to predict the class labels for the test set."
   ]
  },
  {
   "cell_type": "code",
   "execution_count": 60,
   "metadata": {},
   "outputs": [],
   "source": [
    "train= pd.read_csv('train.csv')\n",
    "test = pd.read_csv('test.csv')"
   ]
  },
  {
   "cell_type": "code",
   "execution_count": 61,
   "metadata": {},
   "outputs": [
    {
     "name": "stdout",
     "output_type": "stream",
     "text": [
      "shape: (891, 10)\n",
      "*****************************\n",
      "data types:\n",
      "\n",
      "PassengerId      int64\n",
      "Survived         int64\n",
      "Pclass           int64\n",
      "Sex              int64\n",
      "Age            float64\n",
      "SibSp            int64\n",
      "Parch            int64\n",
      "Fare           float64\n",
      "Cabin            int64\n",
      "Embarked         int64\n",
      "dtype: object\n",
      "*****************************\n",
      "Total missed values: 0\n",
      "*****************************\n",
      "Missed values in each column:\n",
      "\n",
      "PassengerId    0\n",
      "Survived       0\n",
      "Pclass         0\n",
      "Sex            0\n",
      "Age            0\n",
      "SibSp          0\n",
      "Parch          0\n",
      "Fare           0\n",
      "Cabin          0\n",
      "Embarked       0\n",
      "dtype: int64\n"
     ]
    }
   ],
   "source": [
    "#Using our preprocess pipeline to obtain the prepared data\n",
    "train['Embarked'] = train['Embarked'].fillna('S')\n",
    "trainData = prep_pipeline.fit_transform(train)\n",
    "\n",
    "# trainData.head()\n",
    "dataInfo(trainData)"
   ]
  },
  {
   "cell_type": "code",
   "execution_count": 62,
   "metadata": {},
   "outputs": [],
   "source": [
    "#Prepared the test data\n",
    "testData = prep_pipeline.fit_transform(test)"
   ]
  },
  {
   "cell_type": "code",
   "execution_count": 63,
   "metadata": {},
   "outputs": [
    {
     "data": {
      "text/html": [
       "<div>\n",
       "<style scoped>\n",
       "    .dataframe tbody tr th:only-of-type {\n",
       "        vertical-align: middle;\n",
       "    }\n",
       "\n",
       "    .dataframe tbody tr th {\n",
       "        vertical-align: top;\n",
       "    }\n",
       "\n",
       "    .dataframe thead th {\n",
       "        text-align: right;\n",
       "    }\n",
       "</style>\n",
       "<table border=\"1\" class=\"dataframe\">\n",
       "  <thead>\n",
       "    <tr style=\"text-align: right;\">\n",
       "      <th></th>\n",
       "      <th>PassengerId</th>\n",
       "      <th>Pclass</th>\n",
       "      <th>Sex</th>\n",
       "      <th>Age</th>\n",
       "      <th>SibSp</th>\n",
       "      <th>Parch</th>\n",
       "      <th>Fare</th>\n",
       "      <th>Cabin</th>\n",
       "      <th>Embarked</th>\n",
       "    </tr>\n",
       "  </thead>\n",
       "  <tbody>\n",
       "    <tr>\n",
       "      <th>0</th>\n",
       "      <td>892</td>\n",
       "      <td>3</td>\n",
       "      <td>1</td>\n",
       "      <td>34.5</td>\n",
       "      <td>0</td>\n",
       "      <td>0</td>\n",
       "      <td>7.8292</td>\n",
       "      <td>0</td>\n",
       "      <td>2</td>\n",
       "    </tr>\n",
       "    <tr>\n",
       "      <th>1</th>\n",
       "      <td>893</td>\n",
       "      <td>3</td>\n",
       "      <td>0</td>\n",
       "      <td>47.0</td>\n",
       "      <td>1</td>\n",
       "      <td>0</td>\n",
       "      <td>7.0000</td>\n",
       "      <td>0</td>\n",
       "      <td>1</td>\n",
       "    </tr>\n",
       "    <tr>\n",
       "      <th>2</th>\n",
       "      <td>894</td>\n",
       "      <td>2</td>\n",
       "      <td>1</td>\n",
       "      <td>62.0</td>\n",
       "      <td>0</td>\n",
       "      <td>0</td>\n",
       "      <td>9.6875</td>\n",
       "      <td>0</td>\n",
       "      <td>2</td>\n",
       "    </tr>\n",
       "    <tr>\n",
       "      <th>3</th>\n",
       "      <td>895</td>\n",
       "      <td>3</td>\n",
       "      <td>1</td>\n",
       "      <td>27.0</td>\n",
       "      <td>0</td>\n",
       "      <td>0</td>\n",
       "      <td>8.6625</td>\n",
       "      <td>0</td>\n",
       "      <td>1</td>\n",
       "    </tr>\n",
       "    <tr>\n",
       "      <th>4</th>\n",
       "      <td>896</td>\n",
       "      <td>3</td>\n",
       "      <td>0</td>\n",
       "      <td>22.0</td>\n",
       "      <td>1</td>\n",
       "      <td>1</td>\n",
       "      <td>12.2875</td>\n",
       "      <td>0</td>\n",
       "      <td>1</td>\n",
       "    </tr>\n",
       "  </tbody>\n",
       "</table>\n",
       "</div>"
      ],
      "text/plain": [
       "   PassengerId  Pclass  Sex   Age  SibSp  Parch     Fare  Cabin  Embarked\n",
       "0          892       3    1  34.5      0      0   7.8292      0         2\n",
       "1          893       3    0  47.0      1      0   7.0000      0         1\n",
       "2          894       2    1  62.0      0      0   9.6875      0         2\n",
       "3          895       3    1  27.0      0      0   8.6625      0         1\n",
       "4          896       3    0  22.0      1      1  12.2875      0         1"
      ]
     },
     "execution_count": 63,
     "metadata": {},
     "output_type": "execute_result"
    }
   ],
   "source": [
    "testData.head()"
   ]
  },
  {
   "cell_type": "code",
   "execution_count": 64,
   "metadata": {},
   "outputs": [
    {
     "name": "stdout",
     "output_type": "stream",
     "text": [
      "shape: (418, 9)\n",
      "*****************************\n",
      "data types:\n",
      "\n",
      "PassengerId      int64\n",
      "Pclass           int64\n",
      "Sex              int64\n",
      "Age            float64\n",
      "SibSp            int64\n",
      "Parch            int64\n",
      "Fare           float64\n",
      "Cabin            int64\n",
      "Embarked         int64\n",
      "dtype: object\n",
      "*****************************\n",
      "Total missed values: 1\n",
      "*****************************\n",
      "Missed values in each column:\n",
      "\n",
      "PassengerId    0\n",
      "Pclass         0\n",
      "Sex            0\n",
      "Age            0\n",
      "SibSp          0\n",
      "Parch          0\n",
      "Fare           1\n",
      "Cabin          0\n",
      "Embarked       0\n",
      "dtype: int64\n"
     ]
    }
   ],
   "source": [
    "dataInfo(testData)"
   ]
  },
  {
   "cell_type": "markdown",
   "metadata": {},
   "source": [
    "As we can see there exist a missing value in the testData which belongs to Fare. We simply impute it using the median of the Fare values."
   ]
  },
  {
   "cell_type": "code",
   "execution_count": 65,
   "metadata": {},
   "outputs": [
    {
     "data": {
      "text/plain": [
       "PassengerId    0\n",
       "Pclass         0\n",
       "Sex            0\n",
       "Age            0\n",
       "SibSp          0\n",
       "Parch          0\n",
       "Fare           0\n",
       "Cabin          0\n",
       "Embarked       0\n",
       "dtype: int64"
      ]
     },
     "execution_count": 65,
     "metadata": {},
     "output_type": "execute_result"
    }
   ],
   "source": [
    "testData['Fare'].fillna(testData['Fare'].median(), inplace=True)\n",
    "\n",
    "np.sum(testData.isna())"
   ]
  },
  {
   "cell_type": "code",
   "execution_count": 66,
   "metadata": {},
   "outputs": [],
   "source": [
    "X_train, y_train = trainData[['Pclass', 'Age', 'SibSp', 'Parch','Fare','Cabin', 'Sex', 'Embarked']], trainData[['Survived']]\n",
    "X_test = testData[['Pclass', 'Age', 'SibSp', 'Parch','Fare','Cabin', 'Sex', 'Embarked']]"
   ]
  },
  {
   "cell_type": "code",
   "execution_count": 67,
   "metadata": {},
   "outputs": [
    {
     "name": "stdout",
     "output_type": "stream",
     "text": [
      "Prediction:\n",
      "\n",
      "[0 0 0 0 0 0 1 0 1 0 0 0 1 0 1 1 0 0 0 0 0 0 1 0 1 0 1 0 0 0 0 0 0 0 1 0 1\n",
      " 1 0 0 0 0 0 1 1 0 0 0 1 0 0 0 1 1 0 0 0 0 0 1 0 0 0 1 0 1 1 0 1 1 1 0 1 1\n",
      " 1 0 0 1 0 1 1 0 0 0 0 0 1 1 1 1 0 0 1 0 0 0 1 0 1 0 1 0 0 0 1 0 0 0 0 0 0\n",
      " 1 1 1 1 0 0 1 1 1 1 0 1 0 0 1 0 1 0 0 0 0 0 0 0 0 0 0 1 0 0 1 0 0 0 0 0 0\n",
      " 0 0 1 0 0 0 0 0 1 1 0 1 1 1 1 0 0 0 0 0 1 1 0 0 0 0 0 1 1 0 1 1 0 1 1 0 1\n",
      " 0 1 0 0 0 0 0 0 0 1 0 1 1 0 1 1 1 0 1 0 0 1 0 1 0 0 0 0 1 0 0 1 0 1 0 1 0\n",
      " 1 0 1 1 0 1 0 0 0 1 0 0 1 0 0 0 1 1 1 1 0 0 0 0 1 0 1 1 1 0 1 0 0 0 0 0 1\n",
      " 0 0 0 1 1 0 0 0 0 1 0 0 0 1 1 0 1 0 0 0 0 1 1 1 1 1 0 0 0 0 0 0 1 0 0 0 0\n",
      " 1 0 0 0 0 0 0 0 1 1 0 1 0 0 0 0 0 1 1 1 0 0 0 0 0 0 0 0 1 0 1 0 0 0 1 0 0\n",
      " 1 0 0 0 0 0 0 0 0 0 1 0 1 0 0 0 1 1 0 0 0 1 0 1 0 0 0 0 1 1 0 1 0 0 1 1 0\n",
      " 0 1 0 0 1 1 0 0 0 0 0 0 1 1 0 1 0 0 0 0 0 1 0 0 0 1 0 1 0 0 1 0 1 0 1 1 0\n",
      " 0 1 1 1 1 1 0 1 0 0 0]\n"
     ]
    }
   ],
   "source": [
    "#Training the ensemble classifier on the trainData\n",
    "ens_pipeline.fit(X_train, y_train)\n",
    "pred = ens_pipeline.predict(X_test)\n",
    "\n",
    "print(\"Prediction:\\n\")\n",
    "print(pred)"
   ]
  },
  {
   "cell_type": "code",
   "execution_count": 68,
   "metadata": {},
   "outputs": [],
   "source": [
    "testPrediction = pd.DataFrame({'PassengerId':testData['PassengerId'], 'Survived':pd.Series(pred)})"
   ]
  },
  {
   "cell_type": "code",
   "execution_count": 69,
   "metadata": {},
   "outputs": [
    {
     "data": {
      "text/html": [
       "<div>\n",
       "<style scoped>\n",
       "    .dataframe tbody tr th:only-of-type {\n",
       "        vertical-align: middle;\n",
       "    }\n",
       "\n",
       "    .dataframe tbody tr th {\n",
       "        vertical-align: top;\n",
       "    }\n",
       "\n",
       "    .dataframe thead th {\n",
       "        text-align: right;\n",
       "    }\n",
       "</style>\n",
       "<table border=\"1\" class=\"dataframe\">\n",
       "  <thead>\n",
       "    <tr style=\"text-align: right;\">\n",
       "      <th></th>\n",
       "      <th>PassengerId</th>\n",
       "      <th>Survived</th>\n",
       "    </tr>\n",
       "  </thead>\n",
       "  <tbody>\n",
       "    <tr>\n",
       "      <th>0</th>\n",
       "      <td>892</td>\n",
       "      <td>0</td>\n",
       "    </tr>\n",
       "    <tr>\n",
       "      <th>1</th>\n",
       "      <td>893</td>\n",
       "      <td>0</td>\n",
       "    </tr>\n",
       "    <tr>\n",
       "      <th>2</th>\n",
       "      <td>894</td>\n",
       "      <td>0</td>\n",
       "    </tr>\n",
       "    <tr>\n",
       "      <th>3</th>\n",
       "      <td>895</td>\n",
       "      <td>0</td>\n",
       "    </tr>\n",
       "    <tr>\n",
       "      <th>4</th>\n",
       "      <td>896</td>\n",
       "      <td>0</td>\n",
       "    </tr>\n",
       "    <tr>\n",
       "      <th>5</th>\n",
       "      <td>897</td>\n",
       "      <td>0</td>\n",
       "    </tr>\n",
       "    <tr>\n",
       "      <th>6</th>\n",
       "      <td>898</td>\n",
       "      <td>1</td>\n",
       "    </tr>\n",
       "    <tr>\n",
       "      <th>7</th>\n",
       "      <td>899</td>\n",
       "      <td>0</td>\n",
       "    </tr>\n",
       "    <tr>\n",
       "      <th>8</th>\n",
       "      <td>900</td>\n",
       "      <td>1</td>\n",
       "    </tr>\n",
       "    <tr>\n",
       "      <th>9</th>\n",
       "      <td>901</td>\n",
       "      <td>0</td>\n",
       "    </tr>\n",
       "  </tbody>\n",
       "</table>\n",
       "</div>"
      ],
      "text/plain": [
       "   PassengerId  Survived\n",
       "0          892         0\n",
       "1          893         0\n",
       "2          894         0\n",
       "3          895         0\n",
       "4          896         0\n",
       "5          897         0\n",
       "6          898         1\n",
       "7          899         0\n",
       "8          900         1\n",
       "9          901         0"
      ]
     },
     "execution_count": 69,
     "metadata": {},
     "output_type": "execute_result"
    }
   ],
   "source": [
    "testPrediction.head(10)"
   ]
  },
  {
   "cell_type": "code",
   "execution_count": 70,
   "metadata": {},
   "outputs": [],
   "source": [
    "testPrediction.to_csv('submission3.csv', index=False)"
   ]
  },
  {
   "cell_type": "code",
   "execution_count": null,
   "metadata": {},
   "outputs": [],
   "source": []
  }
 ],
 "metadata": {
  "kernelspec": {
   "display_name": "texTmin",
   "language": "python",
   "name": "textmin"
  },
  "language_info": {
   "codemirror_mode": {
    "name": "ipython",
    "version": 3
   },
   "file_extension": ".py",
   "mimetype": "text/x-python",
   "name": "python",
   "nbconvert_exporter": "python",
   "pygments_lexer": "ipython3",
   "version": "3.8.5"
  }
 },
 "nbformat": 4,
 "nbformat_minor": 4
}
